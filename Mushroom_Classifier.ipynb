{
 "cells": [
  {
   "cell_type": "code",
   "execution_count": 2,
   "id": "c1a5fc1e",
   "metadata": {},
   "outputs": [],
   "source": [
    "import pandas as pd\n",
    "import numpy as np\n",
    "import seaborn as sns\n",
    "import matplotlib.pyplot as plt"
   ]
  },
  {
   "cell_type": "markdown",
   "id": "9911dae0",
   "metadata": {},
   "source": [
    "# Importing dataset"
   ]
  },
  {
   "cell_type": "code",
   "execution_count": 3,
   "id": "38caae6d",
   "metadata": {},
   "outputs": [],
   "source": [
    "df=pd.read_csv('mushrooms.csv')"
   ]
  },
  {
   "cell_type": "code",
   "execution_count": 4,
   "id": "6bee90e8",
   "metadata": {},
   "outputs": [
    {
     "data": {
      "text/plain": [
       "(8124, 23)"
      ]
     },
     "execution_count": 4,
     "metadata": {},
     "output_type": "execute_result"
    }
   ],
   "source": [
    "#how big is your dataset\n",
    "df.shape"
   ]
  },
  {
   "cell_type": "code",
   "execution_count": 5,
   "id": "38cbc276",
   "metadata": {},
   "outputs": [
    {
     "data": {
      "text/html": [
       "<div>\n",
       "<style scoped>\n",
       "    .dataframe tbody tr th:only-of-type {\n",
       "        vertical-align: middle;\n",
       "    }\n",
       "\n",
       "    .dataframe tbody tr th {\n",
       "        vertical-align: top;\n",
       "    }\n",
       "\n",
       "    .dataframe thead th {\n",
       "        text-align: right;\n",
       "    }\n",
       "</style>\n",
       "<table border=\"1\" class=\"dataframe\">\n",
       "  <thead>\n",
       "    <tr style=\"text-align: right;\">\n",
       "      <th></th>\n",
       "      <th>class</th>\n",
       "      <th>cap-shape</th>\n",
       "      <th>cap-surface</th>\n",
       "      <th>cap-color</th>\n",
       "      <th>bruises</th>\n",
       "      <th>odor</th>\n",
       "      <th>gill-attachment</th>\n",
       "      <th>gill-spacing</th>\n",
       "      <th>gill-size</th>\n",
       "      <th>gill-color</th>\n",
       "      <th>...</th>\n",
       "      <th>stalk-surface-below-ring</th>\n",
       "      <th>stalk-color-above-ring</th>\n",
       "      <th>stalk-color-below-ring</th>\n",
       "      <th>veil-type</th>\n",
       "      <th>veil-color</th>\n",
       "      <th>ring-number</th>\n",
       "      <th>ring-type</th>\n",
       "      <th>spore-print-color</th>\n",
       "      <th>population</th>\n",
       "      <th>habitat</th>\n",
       "    </tr>\n",
       "  </thead>\n",
       "  <tbody>\n",
       "    <tr>\n",
       "      <th>1086</th>\n",
       "      <td>e</td>\n",
       "      <td>b</td>\n",
       "      <td>y</td>\n",
       "      <td>w</td>\n",
       "      <td>t</td>\n",
       "      <td>l</td>\n",
       "      <td>f</td>\n",
       "      <td>c</td>\n",
       "      <td>b</td>\n",
       "      <td>n</td>\n",
       "      <td>...</td>\n",
       "      <td>s</td>\n",
       "      <td>w</td>\n",
       "      <td>w</td>\n",
       "      <td>p</td>\n",
       "      <td>w</td>\n",
       "      <td>o</td>\n",
       "      <td>p</td>\n",
       "      <td>n</td>\n",
       "      <td>n</td>\n",
       "      <td>m</td>\n",
       "    </tr>\n",
       "    <tr>\n",
       "      <th>3248</th>\n",
       "      <td>p</td>\n",
       "      <td>x</td>\n",
       "      <td>f</td>\n",
       "      <td>g</td>\n",
       "      <td>f</td>\n",
       "      <td>f</td>\n",
       "      <td>f</td>\n",
       "      <td>c</td>\n",
       "      <td>b</td>\n",
       "      <td>g</td>\n",
       "      <td>...</td>\n",
       "      <td>k</td>\n",
       "      <td>b</td>\n",
       "      <td>n</td>\n",
       "      <td>p</td>\n",
       "      <td>w</td>\n",
       "      <td>o</td>\n",
       "      <td>l</td>\n",
       "      <td>h</td>\n",
       "      <td>y</td>\n",
       "      <td>g</td>\n",
       "    </tr>\n",
       "    <tr>\n",
       "      <th>1866</th>\n",
       "      <td>e</td>\n",
       "      <td>x</td>\n",
       "      <td>y</td>\n",
       "      <td>n</td>\n",
       "      <td>t</td>\n",
       "      <td>n</td>\n",
       "      <td>f</td>\n",
       "      <td>c</td>\n",
       "      <td>b</td>\n",
       "      <td>u</td>\n",
       "      <td>...</td>\n",
       "      <td>s</td>\n",
       "      <td>p</td>\n",
       "      <td>w</td>\n",
       "      <td>p</td>\n",
       "      <td>w</td>\n",
       "      <td>o</td>\n",
       "      <td>p</td>\n",
       "      <td>n</td>\n",
       "      <td>v</td>\n",
       "      <td>d</td>\n",
       "    </tr>\n",
       "    <tr>\n",
       "      <th>594</th>\n",
       "      <td>e</td>\n",
       "      <td>x</td>\n",
       "      <td>s</td>\n",
       "      <td>y</td>\n",
       "      <td>t</td>\n",
       "      <td>a</td>\n",
       "      <td>f</td>\n",
       "      <td>c</td>\n",
       "      <td>b</td>\n",
       "      <td>g</td>\n",
       "      <td>...</td>\n",
       "      <td>s</td>\n",
       "      <td>w</td>\n",
       "      <td>w</td>\n",
       "      <td>p</td>\n",
       "      <td>w</td>\n",
       "      <td>o</td>\n",
       "      <td>p</td>\n",
       "      <td>k</td>\n",
       "      <td>n</td>\n",
       "      <td>m</td>\n",
       "    </tr>\n",
       "    <tr>\n",
       "      <th>3588</th>\n",
       "      <td>e</td>\n",
       "      <td>f</td>\n",
       "      <td>f</td>\n",
       "      <td>g</td>\n",
       "      <td>t</td>\n",
       "      <td>n</td>\n",
       "      <td>f</td>\n",
       "      <td>c</td>\n",
       "      <td>b</td>\n",
       "      <td>p</td>\n",
       "      <td>...</td>\n",
       "      <td>s</td>\n",
       "      <td>p</td>\n",
       "      <td>p</td>\n",
       "      <td>p</td>\n",
       "      <td>w</td>\n",
       "      <td>o</td>\n",
       "      <td>p</td>\n",
       "      <td>n</td>\n",
       "      <td>v</td>\n",
       "      <td>d</td>\n",
       "    </tr>\n",
       "  </tbody>\n",
       "</table>\n",
       "<p>5 rows × 23 columns</p>\n",
       "</div>"
      ],
      "text/plain": [
       "     class cap-shape cap-surface cap-color bruises odor gill-attachment  \\\n",
       "1086     e         b           y         w       t    l               f   \n",
       "3248     p         x           f         g       f    f               f   \n",
       "1866     e         x           y         n       t    n               f   \n",
       "594      e         x           s         y       t    a               f   \n",
       "3588     e         f           f         g       t    n               f   \n",
       "\n",
       "     gill-spacing gill-size gill-color  ... stalk-surface-below-ring  \\\n",
       "1086            c         b          n  ...                        s   \n",
       "3248            c         b          g  ...                        k   \n",
       "1866            c         b          u  ...                        s   \n",
       "594             c         b          g  ...                        s   \n",
       "3588            c         b          p  ...                        s   \n",
       "\n",
       "     stalk-color-above-ring stalk-color-below-ring veil-type veil-color  \\\n",
       "1086                      w                      w         p          w   \n",
       "3248                      b                      n         p          w   \n",
       "1866                      p                      w         p          w   \n",
       "594                       w                      w         p          w   \n",
       "3588                      p                      p         p          w   \n",
       "\n",
       "     ring-number ring-type spore-print-color population habitat  \n",
       "1086           o         p                 n          n       m  \n",
       "3248           o         l                 h          y       g  \n",
       "1866           o         p                 n          v       d  \n",
       "594            o         p                 k          n       m  \n",
       "3588           o         p                 n          v       d  \n",
       "\n",
       "[5 rows x 23 columns]"
      ]
     },
     "execution_count": 5,
     "metadata": {},
     "output_type": "execute_result"
    }
   ],
   "source": [
    "#how does the data looks like\n",
    "#df.head()\n",
    "df.sample(5)"
   ]
  },
  {
   "cell_type": "code",
   "execution_count": 6,
   "id": "18803522",
   "metadata": {},
   "outputs": [
    {
     "name": "stdout",
     "output_type": "stream",
     "text": [
      "<class 'pandas.core.frame.DataFrame'>\n",
      "RangeIndex: 8124 entries, 0 to 8123\n",
      "Data columns (total 23 columns):\n",
      " #   Column                    Non-Null Count  Dtype \n",
      "---  ------                    --------------  ----- \n",
      " 0   class                     8124 non-null   object\n",
      " 1   cap-shape                 8124 non-null   object\n",
      " 2   cap-surface               8124 non-null   object\n",
      " 3   cap-color                 8124 non-null   object\n",
      " 4   bruises                   8124 non-null   object\n",
      " 5   odor                      8124 non-null   object\n",
      " 6   gill-attachment           8124 non-null   object\n",
      " 7   gill-spacing              8124 non-null   object\n",
      " 8   gill-size                 8124 non-null   object\n",
      " 9   gill-color                8124 non-null   object\n",
      " 10  stalk-shape               8124 non-null   object\n",
      " 11  stalk-root                8124 non-null   object\n",
      " 12  stalk-surface-above-ring  8124 non-null   object\n",
      " 13  stalk-surface-below-ring  8124 non-null   object\n",
      " 14  stalk-color-above-ring    8124 non-null   object\n",
      " 15  stalk-color-below-ring    8124 non-null   object\n",
      " 16  veil-type                 8124 non-null   object\n",
      " 17  veil-color                8124 non-null   object\n",
      " 18  ring-number               8124 non-null   object\n",
      " 19  ring-type                 8124 non-null   object\n",
      " 20  spore-print-color         8124 non-null   object\n",
      " 21  population                8124 non-null   object\n",
      " 22  habitat                   8124 non-null   object\n",
      "dtypes: object(23)\n",
      "memory usage: 1.4+ MB\n"
     ]
    }
   ],
   "source": [
    "#What are the datatypes of column\n",
    "\n",
    "#just general info of dataset like dtypes of all features,null count\n",
    "df.info()\n",
    "\n",
    "#conclusion I can see of features have dtype=object means all can be either categorical or Text,\n",
    "#along with that for all columns count is 8124 ,hence no missing values can be seen initially\n",
    "#How ring number is object??? since it's sounds like numerical should be int32"
   ]
  },
  {
   "cell_type": "code",
   "execution_count": 7,
   "id": "6a0155eb",
   "metadata": {},
   "outputs": [
    {
     "data": {
      "text/plain": [
       "class                       0\n",
       "cap-shape                   0\n",
       "cap-surface                 0\n",
       "cap-color                   0\n",
       "bruises                     0\n",
       "odor                        0\n",
       "gill-attachment             0\n",
       "gill-spacing                0\n",
       "gill-size                   0\n",
       "gill-color                  0\n",
       "stalk-shape                 0\n",
       "stalk-root                  0\n",
       "stalk-surface-above-ring    0\n",
       "stalk-surface-below-ring    0\n",
       "stalk-color-above-ring      0\n",
       "stalk-color-below-ring      0\n",
       "veil-type                   0\n",
       "veil-color                  0\n",
       "ring-number                 0\n",
       "ring-type                   0\n",
       "spore-print-color           0\n",
       "population                  0\n",
       "habitat                     0\n",
       "dtype: int64"
      ]
     },
     "execution_count": 7,
     "metadata": {},
     "output_type": "execute_result"
    }
   ],
   "source": [
    "#are there any missing values\n",
    "\n",
    "df.isnull().sum()"
   ]
  },
  {
   "cell_type": "code",
   "execution_count": 8,
   "id": "fd8b779d",
   "metadata": {},
   "outputs": [
    {
     "data": {
      "text/html": [
       "<div>\n",
       "<style scoped>\n",
       "    .dataframe tbody tr th:only-of-type {\n",
       "        vertical-align: middle;\n",
       "    }\n",
       "\n",
       "    .dataframe tbody tr th {\n",
       "        vertical-align: top;\n",
       "    }\n",
       "\n",
       "    .dataframe thead th {\n",
       "        text-align: right;\n",
       "    }\n",
       "</style>\n",
       "<table border=\"1\" class=\"dataframe\">\n",
       "  <thead>\n",
       "    <tr style=\"text-align: right;\">\n",
       "      <th></th>\n",
       "      <th>class</th>\n",
       "      <th>cap-shape</th>\n",
       "      <th>cap-surface</th>\n",
       "      <th>cap-color</th>\n",
       "      <th>bruises</th>\n",
       "      <th>odor</th>\n",
       "      <th>gill-attachment</th>\n",
       "      <th>gill-spacing</th>\n",
       "      <th>gill-size</th>\n",
       "      <th>gill-color</th>\n",
       "      <th>...</th>\n",
       "      <th>stalk-surface-below-ring</th>\n",
       "      <th>stalk-color-above-ring</th>\n",
       "      <th>stalk-color-below-ring</th>\n",
       "      <th>veil-type</th>\n",
       "      <th>veil-color</th>\n",
       "      <th>ring-number</th>\n",
       "      <th>ring-type</th>\n",
       "      <th>spore-print-color</th>\n",
       "      <th>population</th>\n",
       "      <th>habitat</th>\n",
       "    </tr>\n",
       "  </thead>\n",
       "  <tbody>\n",
       "    <tr>\n",
       "      <th>count</th>\n",
       "      <td>8124</td>\n",
       "      <td>8124</td>\n",
       "      <td>8124</td>\n",
       "      <td>8124</td>\n",
       "      <td>8124</td>\n",
       "      <td>8124</td>\n",
       "      <td>8124</td>\n",
       "      <td>8124</td>\n",
       "      <td>8124</td>\n",
       "      <td>8124</td>\n",
       "      <td>...</td>\n",
       "      <td>8124</td>\n",
       "      <td>8124</td>\n",
       "      <td>8124</td>\n",
       "      <td>8124</td>\n",
       "      <td>8124</td>\n",
       "      <td>8124</td>\n",
       "      <td>8124</td>\n",
       "      <td>8124</td>\n",
       "      <td>8124</td>\n",
       "      <td>8124</td>\n",
       "    </tr>\n",
       "    <tr>\n",
       "      <th>unique</th>\n",
       "      <td>2</td>\n",
       "      <td>6</td>\n",
       "      <td>4</td>\n",
       "      <td>10</td>\n",
       "      <td>2</td>\n",
       "      <td>9</td>\n",
       "      <td>2</td>\n",
       "      <td>2</td>\n",
       "      <td>2</td>\n",
       "      <td>12</td>\n",
       "      <td>...</td>\n",
       "      <td>4</td>\n",
       "      <td>9</td>\n",
       "      <td>9</td>\n",
       "      <td>1</td>\n",
       "      <td>4</td>\n",
       "      <td>3</td>\n",
       "      <td>5</td>\n",
       "      <td>9</td>\n",
       "      <td>6</td>\n",
       "      <td>7</td>\n",
       "    </tr>\n",
       "    <tr>\n",
       "      <th>top</th>\n",
       "      <td>e</td>\n",
       "      <td>x</td>\n",
       "      <td>y</td>\n",
       "      <td>n</td>\n",
       "      <td>f</td>\n",
       "      <td>n</td>\n",
       "      <td>f</td>\n",
       "      <td>c</td>\n",
       "      <td>b</td>\n",
       "      <td>b</td>\n",
       "      <td>...</td>\n",
       "      <td>s</td>\n",
       "      <td>w</td>\n",
       "      <td>w</td>\n",
       "      <td>p</td>\n",
       "      <td>w</td>\n",
       "      <td>o</td>\n",
       "      <td>p</td>\n",
       "      <td>w</td>\n",
       "      <td>v</td>\n",
       "      <td>d</td>\n",
       "    </tr>\n",
       "    <tr>\n",
       "      <th>freq</th>\n",
       "      <td>4208</td>\n",
       "      <td>3656</td>\n",
       "      <td>3244</td>\n",
       "      <td>2284</td>\n",
       "      <td>4748</td>\n",
       "      <td>3528</td>\n",
       "      <td>7914</td>\n",
       "      <td>6812</td>\n",
       "      <td>5612</td>\n",
       "      <td>1728</td>\n",
       "      <td>...</td>\n",
       "      <td>4936</td>\n",
       "      <td>4464</td>\n",
       "      <td>4384</td>\n",
       "      <td>8124</td>\n",
       "      <td>7924</td>\n",
       "      <td>7488</td>\n",
       "      <td>3968</td>\n",
       "      <td>2388</td>\n",
       "      <td>4040</td>\n",
       "      <td>3148</td>\n",
       "    </tr>\n",
       "  </tbody>\n",
       "</table>\n",
       "<p>4 rows × 23 columns</p>\n",
       "</div>"
      ],
      "text/plain": [
       "       class cap-shape cap-surface cap-color bruises  odor gill-attachment  \\\n",
       "count   8124      8124        8124      8124    8124  8124            8124   \n",
       "unique     2         6           4        10       2     9               2   \n",
       "top        e         x           y         n       f     n               f   \n",
       "freq    4208      3656        3244      2284    4748  3528            7914   \n",
       "\n",
       "       gill-spacing gill-size gill-color  ... stalk-surface-below-ring  \\\n",
       "count          8124      8124       8124  ...                     8124   \n",
       "unique            2         2         12  ...                        4   \n",
       "top               c         b          b  ...                        s   \n",
       "freq           6812      5612       1728  ...                     4936   \n",
       "\n",
       "       stalk-color-above-ring stalk-color-below-ring veil-type veil-color  \\\n",
       "count                    8124                   8124      8124       8124   \n",
       "unique                      9                      9         1          4   \n",
       "top                         w                      w         p          w   \n",
       "freq                     4464                   4384      8124       7924   \n",
       "\n",
       "       ring-number ring-type spore-print-color population habitat  \n",
       "count         8124      8124              8124       8124    8124  \n",
       "unique           3         5                 9          6       7  \n",
       "top              o         p                 w          v       d  \n",
       "freq          7488      3968              2388       4040    3148  \n",
       "\n",
       "[4 rows x 23 columns]"
      ]
     },
     "execution_count": 8,
     "metadata": {},
     "output_type": "execute_result"
    }
   ],
   "source": [
    "#how does the data looks like mathematically,describe() is only applicable yo numeric columns 25%,mean,median,50%,75%\n",
    "df.describe()"
   ]
  },
  {
   "cell_type": "code",
   "execution_count": 9,
   "id": "992f72eb",
   "metadata": {},
   "outputs": [
    {
     "data": {
      "text/plain": [
       "0"
      ]
     },
     "execution_count": 9,
     "metadata": {},
     "output_type": "execute_result"
    }
   ],
   "source": [
    "#Are there any duplicate rows?\n",
    "\n",
    "df.duplicated().sum()"
   ]
  },
  {
   "cell_type": "code",
   "execution_count": 9,
   "id": "5d60d00c",
   "metadata": {},
   "outputs": [
    {
     "data": {
      "text/html": [
       "<div>\n",
       "<style scoped>\n",
       "    .dataframe tbody tr th:only-of-type {\n",
       "        vertical-align: middle;\n",
       "    }\n",
       "\n",
       "    .dataframe tbody tr th {\n",
       "        vertical-align: top;\n",
       "    }\n",
       "\n",
       "    .dataframe thead th {\n",
       "        text-align: right;\n",
       "    }\n",
       "</style>\n",
       "<table border=\"1\" class=\"dataframe\">\n",
       "  <thead>\n",
       "    <tr style=\"text-align: right;\">\n",
       "      <th></th>\n",
       "    </tr>\n",
       "  </thead>\n",
       "  <tbody>\n",
       "  </tbody>\n",
       "</table>\n",
       "</div>"
      ],
      "text/plain": [
       "Empty DataFrame\n",
       "Columns: []\n",
       "Index: []"
      ]
     },
     "execution_count": 9,
     "metadata": {},
     "output_type": "execute_result"
    }
   ],
   "source": [
    "#is there any correlatio0n between the ip and op features? df.corr() works only on numeric column\n",
    "df.corr()"
   ]
  },
  {
   "cell_type": "code",
   "execution_count": 10,
   "id": "6b327caa",
   "metadata": {},
   "outputs": [
    {
     "name": "stdout",
     "output_type": "stream",
     "text": [
      "e    4208\n",
      "p    3916\n",
      "Name: class, dtype: int64\n"
     ]
    },
    {
     "data": {
      "text/plain": [
       "e    0.517971\n",
       "p    0.482029\n",
       "Name: class, dtype: float64"
      ]
     },
     "execution_count": 10,
     "metadata": {},
     "output_type": "execute_result"
    }
   ],
   "source": [
    "# check dataset is balanced or imbalanced \n",
    "\n",
    "\n",
    "\n",
    "#here dataset is balanced\n",
    "print(df['class'].value_counts()  )\n",
    "\n",
    "df['class'].value_counts(normalize=True) #percentage 51 and 48 nearly equal/same"
   ]
  },
  {
   "cell_type": "code",
   "execution_count": 11,
   "id": "3140c32a",
   "metadata": {
    "scrolled": true
   },
   "outputs": [
    {
     "data": {
      "image/png": "[encoded data removed]",
      "text/plain": [
       "<Figure size 432x288 with 1 Axes>"
      ]
     },
     "metadata": {
      "needs_background": "light"
     },
     "output_type": "display_data"
    }
   ],
   "source": [
    "df['class'].value_counts().plot(kind=\"bar\")\n",
    "plt.title(\"Value counts of the class variable\")\n",
    "plt.xlabel(\"Mushroom edible(e) or poisonous(p)\")\n",
    "plt.xticks(rotation=0)\n",
    "plt.ylabel(\"Count\")\n",
    "plt.show()"
   ]
  },
  {
   "cell_type": "code",
   "execution_count": 12,
   "id": "1359768c",
   "metadata": {},
   "outputs": [
    {
     "name": "stdout",
     "output_type": "stream",
     "text": [
      "class : ['p' 'e']\n",
      "cap-shape : ['x' 'b' 's' 'f' 'k' 'c']\n",
      "cap-surface : ['s' 'y' 'f' 'g']\n",
      "cap-color : ['n' 'y' 'w' 'g' 'e' 'p' 'b' 'u' 'c' 'r']\n",
      "bruises : ['t' 'f']\n",
      "odor : ['p' 'a' 'l' 'n' 'f' 'c' 'y' 's' 'm']\n",
      "gill-attachment : ['f' 'a']\n",
      "gill-spacing : ['c' 'w']\n",
      "gill-size : ['n' 'b']\n",
      "gill-color : ['k' 'n' 'g' 'p' 'w' 'h' 'u' 'e' 'b' 'r' 'y' 'o']\n",
      "stalk-shape : ['e' 't']\n",
      "stalk-root : ['e' 'c' 'b' 'r' '?']\n",
      "stalk-surface-above-ring : ['s' 'f' 'k' 'y']\n",
      "stalk-surface-below-ring : ['s' 'f' 'y' 'k']\n",
      "stalk-color-above-ring : ['w' 'g' 'p' 'n' 'b' 'e' 'o' 'c' 'y']\n",
      "stalk-color-below-ring : ['w' 'p' 'g' 'b' 'n' 'e' 'y' 'o' 'c']\n",
      "veil-type : ['p']\n",
      "veil-color : ['w' 'n' 'o' 'y']\n",
      "ring-number : ['o' 't' 'n']\n",
      "ring-type : ['p' 'e' 'l' 'f' 'n']\n",
      "spore-print-color : ['k' 'n' 'u' 'h' 'w' 'r' 'o' 'y' 'b']\n",
      "population : ['s' 'n' 'a' 'v' 'y' 'c']\n",
      "habitat : ['u' 'g' 'm' 'd' 'p' 'w' 'l']\n"
     ]
    }
   ],
   "source": [
    "for i in df.columns:\n",
    "    print('{} : {}'.format(i,df[i].unique()))      "
   ]
  },
  {
   "cell_type": "code",
   "execution_count": 13,
   "id": "ee473fd1",
   "metadata": {},
   "outputs": [
    {
     "name": "stdout",
     "output_type": "stream",
     "text": [
      "e    4208\n",
      "p    3916\n",
      "Name: class, dtype: int64\n",
      "x    3656\n",
      "f    3152\n",
      "k     828\n",
      "b     452\n",
      "s      32\n",
      "c       4\n",
      "Name: cap-shape, dtype: int64\n",
      "y    3244\n",
      "s    2556\n",
      "f    2320\n",
      "g       4\n",
      "Name: cap-surface, dtype: int64\n",
      "n    2284\n",
      "g    1840\n",
      "e    1500\n",
      "y    1072\n",
      "w    1040\n",
      "b     168\n",
      "p     144\n",
      "c      44\n",
      "u      16\n",
      "r      16\n",
      "Name: cap-color, dtype: int64\n",
      "f    4748\n",
      "t    3376\n",
      "Name: bruises, dtype: int64\n",
      "n    3528\n",
      "f    2160\n",
      "y     576\n",
      "s     576\n",
      "a     400\n",
      "l     400\n",
      "p     256\n",
      "c     192\n",
      "m      36\n",
      "Name: odor, dtype: int64\n",
      "f    7914\n",
      "a     210\n",
      "Name: gill-attachment, dtype: int64\n",
      "c    6812\n",
      "w    1312\n",
      "Name: gill-spacing, dtype: int64\n",
      "b    5612\n",
      "n    2512\n",
      "Name: gill-size, dtype: int64\n",
      "b    1728\n",
      "p    1492\n",
      "w    1202\n",
      "n    1048\n",
      "g     752\n",
      "h     732\n",
      "u     492\n",
      "k     408\n",
      "e      96\n",
      "y      86\n",
      "o      64\n",
      "r      24\n",
      "Name: gill-color, dtype: int64\n",
      "t    4608\n",
      "e    3516\n",
      "Name: stalk-shape, dtype: int64\n",
      "b    3776\n",
      "?    2480\n",
      "e    1120\n",
      "c     556\n",
      "r     192\n",
      "Name: stalk-root, dtype: int64\n",
      "s    5176\n",
      "k    2372\n",
      "f     552\n",
      "y      24\n",
      "Name: stalk-surface-above-ring, dtype: int64\n",
      "s    4936\n",
      "k    2304\n",
      "f     600\n",
      "y     284\n",
      "Name: stalk-surface-below-ring, dtype: int64\n",
      "w    4464\n",
      "p    1872\n",
      "g     576\n",
      "n     448\n",
      "b     432\n",
      "o     192\n",
      "e      96\n",
      "c      36\n",
      "y       8\n",
      "Name: stalk-color-above-ring, dtype: int64\n",
      "w    4384\n",
      "p    1872\n",
      "g     576\n",
      "n     512\n",
      "b     432\n",
      "o     192\n",
      "e      96\n",
      "c      36\n",
      "y      24\n",
      "Name: stalk-color-below-ring, dtype: int64\n",
      "p    8124\n",
      "Name: veil-type, dtype: int64\n",
      "w    7924\n",
      "n      96\n",
      "o      96\n",
      "y       8\n",
      "Name: veil-color, dtype: int64\n",
      "o    7488\n",
      "t     600\n",
      "n      36\n",
      "Name: ring-number, dtype: int64\n",
      "p    3968\n",
      "e    2776\n",
      "l    1296\n",
      "f      48\n",
      "n      36\n",
      "Name: ring-type, dtype: int64\n",
      "w    2388\n",
      "n    1968\n",
      "k    1872\n",
      "h    1632\n",
      "r      72\n",
      "u      48\n",
      "o      48\n",
      "y      48\n",
      "b      48\n",
      "Name: spore-print-color, dtype: int64\n",
      "v    4040\n",
      "y    1712\n",
      "s    1248\n",
      "n     400\n",
      "a     384\n",
      "c     340\n",
      "Name: population, dtype: int64\n",
      "d    3148\n",
      "g    2148\n",
      "p    1144\n",
      "l     832\n",
      "u     368\n",
      "m     292\n",
      "w     192\n",
      "Name: habitat, dtype: int64\n"
     ]
    }
   ],
   "source": [
    "for i in df.columns:\n",
    "    print(df[i].value_counts())"
   ]
  },
  {
   "cell_type": "markdown",
   "id": "1bfdf71d",
   "metadata": {},
   "source": [
    "# Handling  categorical missing values\n",
    "\n",
    "# Column :stalk-root\n",
    "\n",
    "#stalk-root: bulbous=b,club=c,cup=u,equal=e,rhizomorphs=z,rooted=r,missing=?\n",
    "\n",
    "\n",
    "find reason behind missing values from dataset domain knowledge(discuss with domain experts also) and handle accordingly.\n",
    "a.either they are not recorded.(use imputation methods vagire) \n",
    "b.either they are not exists.(put 0 vagire for missing val)\n",
    "\n",
    "for this project I couldn't able to find exacct reason behind missing values ,so I am doing below methods experiments and whichever gives best results(for MLmodel ) will select finally that one.\n",
    "\n",
    "\n",
    "Each  method has its own advantages+disadvantages.\n",
    "\n",
    "# Methods for categorical column.\n",
    "1.Drop/delete column\n",
    "2.Drop the rows of dataset contains that missing values.\n",
    "3.imputation by most frequent value/by mode.\n",
    "4.use another catagory as \"unknown\"\n",
    "5.add extra column and fill only missing values."
   ]
  },
  {
   "cell_type": "code",
   "execution_count": 14,
   "id": "266e0f93",
   "metadata": {},
   "outputs": [
    {
     "name": "stdout",
     "output_type": "stream",
     "text": [
      "b    0.464796\n",
      "?    0.305268\n",
      "e    0.137863\n",
      "c    0.068439\n",
      "r    0.023634\n",
      "Name: stalk-root, dtype: float64\n"
     ]
    },
    {
     "data": {
      "text/plain": [
       "([<matplotlib.patches.Wedge at 0xbac9a89fd0>,\n",
       "  <matplotlib.patches.Wedge at 0xbac9a9aa00>,\n",
       "  <matplotlib.patches.Wedge at 0xbac9aaa3d0>,\n",
       "  <matplotlib.patches.Wedge at 0xbac9aaad90>,\n",
       "  <matplotlib.patches.Wedge at 0xbac9ab6760>],\n",
       " [Text(-1.0932793442066577, 0.12140953640905079, 'b'),\n",
       "  Text(0.7399551014570356, -0.8139204186084216, '?'),\n",
       "  Text(0.9324619235364265, 0.5835364265877047, 'e'),\n",
       "  Text(0.39110532775552526, 1.028122863572853, 'c'),\n",
       "  Text(0.0815970314240834, 1.0969694273145343, 'r')],\n",
       " [Text(-0.596334187749086, 0.06622338349584588, '46.48'),\n",
       "  Text(0.4036118735220194, -0.44395659196822995, '30.53'),\n",
       "  Text(0.5086155946562326, 0.3182925963205661, '13.79'),\n",
       "  Text(0.21333017877574104, 0.560794289221556, '6.84'),\n",
       "  Text(0.044507471685863664, 0.5983469603533823, '2.36')])"
      ]
     },
     "execution_count": 14,
     "metadata": {},
     "output_type": "execute_result"
    },
    {
     "data": {
      "image/png": "[encoded data removed]",
      "text/plain": [
       "<Figure size 360x360 with 1 Axes>"
      ]
     },
     "metadata": {},
     "output_type": "display_data"
    }
   ],
   "source": [
    "print(df['stalk-root'].value_counts(normalize=True))\n",
    "plt.figure(figsize=(5,5))\n",
    "plt.pie(df['stalk-root'].value_counts(),startangle=90,autopct='%.2f',\n",
    "       labels=['b','?','e','c','r'],shadow=True)\n",
    "\n",
    "#since 30% entries of stalk-root= ? i.e null/missing values\n",
    "#Can't drop column,only 30% are missing,if more than 50% missing then you can drop the column\n",
    "#can't drop the rows,30% rows means large,the entire 30% rows of mushroom dataset will be delete,we will lose out data"
   ]
  },
  {
   "cell_type": "code",
   "execution_count": 15,
   "id": "15b12185",
   "metadata": {},
   "outputs": [
    {
     "name": "stdout",
     "output_type": "stream",
     "text": [
      "class                          0\n",
      "cap-shape                      0\n",
      "cap-surface                    0\n",
      "cap-color                      0\n",
      "bruises                        0\n",
      "odor                           0\n",
      "gill-attachment                0\n",
      "gill-spacing                   0\n",
      "gill-size                      0\n",
      "gill-color                     0\n",
      "stalk-shape                    0\n",
      "stalk-root                  2480\n",
      "stalk-surface-above-ring       0\n",
      "stalk-surface-below-ring       0\n",
      "stalk-color-above-ring         0\n",
      "stalk-color-below-ring         0\n",
      "veil-type                      0\n",
      "veil-color                     0\n",
      "ring-number                    0\n",
      "ring-type                      0\n",
      "spore-print-color              0\n",
      "population                     0\n",
      "habitat                        0\n",
      "dtype: int64\n",
      "['e' 'c' 'b' 'r' nan]\n",
      "b    6256\n",
      "e    1120\n",
      "c     556\n",
      "r     192\n",
      "Name: stalk-root, dtype: int64\n"
     ]
    }
   ],
   "source": [
    "#replacement by mode\n",
    "df['stalk-root'].replace('?', np.nan,inplace=True)\n",
    "print(df.isna().sum())\n",
    "print(df['stalk-root'].unique())\n",
    "\n",
    "df_1=df.copy()\n",
    "mode = df_1[\"stalk-root\"].mode() \n",
    "df_1['stalk-root'].fillna(mode.iloc[0],inplace=True)\n",
    "print(df_1['stalk-root'].value_counts())"
   ]
  },
  {
   "cell_type": "code",
   "execution_count": null,
   "id": "d80cc9b2",
   "metadata": {},
   "outputs": [],
   "source": [
    "#replacing gill number features as it sounds numerical but given as categorical one,two,one ---> 1,2,0\n",
    "#No need it because remaining features are categorical ,let's keep it categorical"
   ]
  },
  {
   "cell_type": "code",
   "execution_count": 16,
   "id": "48957e9e",
   "metadata": {},
   "outputs": [],
   "source": [
    "#Feature Selection\n",
    "\n",
    "\n",
    "#veil type has only one category,so do I need to keep it or remove it?\n",
    "df_1.drop(['veil-color','stalk-shape','veil-type','gill-attachment'],axis=1,inplace=True)"
   ]
  },
  {
   "cell_type": "markdown",
   "id": "fd9c3d78",
   "metadata": {},
   "source": [
    "# Feature Selection\n",
    "\n",
    "Using stalk-color-above ring,below ring and veil color,we can calculate the gill attachment,association val(0.97,.97,.87)\n",
    "hence leads to multicollinearity,so rather than dropping three ,i'll drop gill -attachment.\n",
    "\n",
    "\n",
    "stalk-shape has very very less correlation or association with output features class (0.01 hence drop it.\n",
    "\n",
    "\n",
    "veil-color has collinearity with two others features,hence drop it.\n",
    "\n",
    "\n",
    "odor is very useful to calculate the class .i.e. .97\n",
    "\n",
    "\n",
    "veil-type has single category only,hence delete it"
   ]
  },
  {
   "cell_type": "code",
   "execution_count": 17,
   "id": "1f9fbad9",
   "metadata": {},
   "outputs": [
    {
     "data": {
      "text/plain": [
       "Index(['class', 'cap-shape', 'cap-surface', 'cap-color', 'bruises', 'odor',\n",
       "       'gill-spacing', 'gill-size', 'gill-color', 'stalk-root',\n",
       "       'stalk-surface-above-ring', 'stalk-surface-below-ring',\n",
       "       'stalk-color-above-ring', 'stalk-color-below-ring', 'ring-number',\n",
       "       'ring-type', 'spore-print-color', 'population', 'habitat'],\n",
       "      dtype='object')"
      ]
     },
     "execution_count": 17,
     "metadata": {},
     "output_type": "execute_result"
    }
   ],
   "source": [
    "df_1.columns"
   ]
  },
  {
   "cell_type": "markdown",
   "id": "5c74c064",
   "metadata": {},
   "source": [
    "# EDA"
   ]
  },
  {
   "cell_type": "code",
   "execution_count": null,
   "id": "fb169085",
   "metadata": {},
   "outputs": [],
   "source": [
    "for cat-cat features you can use countplot(),piechart(),crosstab(),pivottable(),clustermap()"
   ]
  },
  {
   "cell_type": "code",
   "execution_count": null,
   "id": "b0dd597d",
   "metadata": {},
   "outputs": [],
   "source": [
    "#find correlation between variables and if correlation between\n",
    " #ip -ip features is very strong >0.9 then delete one of them\n",
    "    \n",
    "#also ip -op features ,strong then that ip feature is very useful for classification\n",
    "\n",
    "#ip-ip correlation means multicollinearity\n",
    "# to find ip-op correlation for cat-cat :use chi2,mutual information\n",
    "#to find both use cramer's v"
   ]
  },
  {
   "cell_type": "markdown",
   "id": "4e720447",
   "metadata": {},
   "source": [
    "# EDA STEPS\n",
    "\n",
    "\n",
    "1.Data Quality Check: \n",
    "Can be done using pandas library functions like describe(), info(), dtypes(), etc. It is used to find several features, its datatypes, duplicate values, missing value, etc.\n",
    "\n",
    "\n",
    "2.Statistical Test:\n",
    "Some statistical tests like Pearson correlation, Spearman correlation, Kendall test, etc are done to get a correlation between the features. It can be implemented in python using the stats library.\n",
    "https://towardsdatascience.com/the-search-for-categorical-correlation-a1cf7f1888c9\n",
    "\n",
    "\n",
    "3.Quantitative Test: \n",
    "Some quantitative test is used to find the spread of numerical features, count of categorical features. It can be implemented in python using the functions of the pandas library.\n",
    "\n",
    "\n",
    "4.Visualization:\n",
    "\n",
    "Feature visualization is very essential to get an understanding of the data. Graphical techniques like bar plots, pie charts are used to get an understanding of categorical features, whereas scatter plots, histograms are used for numerical features.\n",
    "\n",
    "5.Brainstorming:\n",
    "Asking the right questions is what separates a good data analyst from a mediocre one. We may be experts with the tools and tech, but these skills are relatively useless if we are unable to retrieve information from the data.\n",
    "\n",
    "Asking the right questions allows the analyst to “be in sync” with the stakeholder, or to implement a predictive model that really works.\n",
    "\n",
    "\n",
    "usually do some domain knowledge study for the brainstorming(talk with domain experts,google).\n",
    "\n",
    "a. find myths/misconceptions about that dataset/project/features ; then do relevant EDA(queries+plots) on same features\n",
    "Check whether EDA results prove myths are True or False,and accordingy finalize your EDA conclusion. \n",
    "\n",
    "b.using plots/hypotheis test find other insights/pattern/anamolies/trend in dataset.\n",
    "\n",
    "in above both steps ask many questions to yourself,find answers of same,\n",
    "then at the end select only those questions which are 100% useful /vital importance/relevance for project aim."
   ]
  },
  {
   "cell_type": "markdown",
   "id": "cbb03de4",
   "metadata": {},
   "source": [
    "# Categorical Features EDA\n",
    "\n",
    "1.Data Quality Check: Done\n",
    "\n",
    "2.Statistical test: \n",
    "\n",
    "a.df.describe()\n",
    "b.measure of central tendancy- Mode()"
   ]
  },
  {
   "cell_type": "code",
   "execution_count": 33,
   "id": "4f517d23",
   "metadata": {},
   "outputs": [
    {
     "name": "stdout",
     "output_type": "stream",
     "text": [
      "class : e 4208\n",
      "cap-shape : x 3656\n",
      "cap-surface : y 3244\n",
      "cap-color : n 2284\n",
      "bruises : f 4748\n",
      "odor : n 3528\n",
      "gill-attachment : f 7914\n",
      "gill-spacing : c 6812\n",
      "gill-size : b 5612\n",
      "gill-color : b 1728\n",
      "stalk-shape : t 4608\n",
      "stalk-root : b 3776\n",
      "stalk-surface-above-ring : s 5176\n",
      "stalk-surface-below-ring : s 4936\n",
      "stalk-color-above-ring : w 4464\n",
      "stalk-color-below-ring : w 4384\n",
      "veil-type : p 8124\n",
      "veil-color : w 7924\n",
      "ring-number : o 7488\n",
      "ring-type : p 3968\n",
      "spore-print-color : w 2388\n",
      "population : v 4040\n",
      "habitat : d 3148\n",
      "4208\n",
      "4208\n",
      "e\n",
      "e    4208\n",
      "p    3916\n",
      "Name: class, dtype: int64\n"
     ]
    }
   ],
   "source": [
    "for i in df.columns:\n",
    "       print(i,':',df[i].mode()[0],    sum(df[i] == df[i].mode()[0])     )\n",
    "        \n",
    "        \n",
    "print(sum(df['class']=='e'))\n",
    "print(df['class'].value_counts().e)\n",
    "(df['class'] == df['class'].mode()[0]).sum()\n",
    "\n",
    "con=df['class'].mode()[0]\n",
    "print(con)\n",
    "print(df['class'].value_counts())"
   ]
  },
  {
   "cell_type": "code",
   "execution_count": 19,
   "id": "66db3c4d",
   "metadata": {},
   "outputs": [
    {
     "data": {
      "text/html": [
       "<div>\n",
       "<style scoped>\n",
       "    .dataframe tbody tr th:only-of-type {\n",
       "        vertical-align: middle;\n",
       "    }\n",
       "\n",
       "    .dataframe tbody tr th {\n",
       "        vertical-align: top;\n",
       "    }\n",
       "\n",
       "    .dataframe thead th {\n",
       "        text-align: right;\n",
       "    }\n",
       "</style>\n",
       "<table border=\"1\" class=\"dataframe\">\n",
       "  <thead>\n",
       "    <tr style=\"text-align: right;\">\n",
       "      <th></th>\n",
       "      <th>class</th>\n",
       "      <th>cap-shape</th>\n",
       "      <th>cap-surface</th>\n",
       "      <th>cap-color</th>\n",
       "      <th>bruises</th>\n",
       "      <th>odor</th>\n",
       "      <th>gill-spacing</th>\n",
       "      <th>gill-size</th>\n",
       "      <th>gill-color</th>\n",
       "      <th>stalk-root</th>\n",
       "      <th>stalk-surface-above-ring</th>\n",
       "      <th>stalk-surface-below-ring</th>\n",
       "      <th>stalk-color-above-ring</th>\n",
       "      <th>stalk-color-below-ring</th>\n",
       "      <th>ring-number</th>\n",
       "      <th>ring-type</th>\n",
       "      <th>spore-print-color</th>\n",
       "      <th>population</th>\n",
       "      <th>habitat</th>\n",
       "    </tr>\n",
       "  </thead>\n",
       "  <tbody>\n",
       "    <tr>\n",
       "      <th>count</th>\n",
       "      <td>8124</td>\n",
       "      <td>8124</td>\n",
       "      <td>8124</td>\n",
       "      <td>8124</td>\n",
       "      <td>8124</td>\n",
       "      <td>8124</td>\n",
       "      <td>8124</td>\n",
       "      <td>8124</td>\n",
       "      <td>8124</td>\n",
       "      <td>8124</td>\n",
       "      <td>8124</td>\n",
       "      <td>8124</td>\n",
       "      <td>8124</td>\n",
       "      <td>8124</td>\n",
       "      <td>8124</td>\n",
       "      <td>8124</td>\n",
       "      <td>8124</td>\n",
       "      <td>8124</td>\n",
       "      <td>8124</td>\n",
       "    </tr>\n",
       "    <tr>\n",
       "      <th>unique</th>\n",
       "      <td>2</td>\n",
       "      <td>6</td>\n",
       "      <td>4</td>\n",
       "      <td>10</td>\n",
       "      <td>2</td>\n",
       "      <td>9</td>\n",
       "      <td>2</td>\n",
       "      <td>2</td>\n",
       "      <td>12</td>\n",
       "      <td>4</td>\n",
       "      <td>4</td>\n",
       "      <td>4</td>\n",
       "      <td>9</td>\n",
       "      <td>9</td>\n",
       "      <td>3</td>\n",
       "      <td>5</td>\n",
       "      <td>9</td>\n",
       "      <td>6</td>\n",
       "      <td>7</td>\n",
       "    </tr>\n",
       "    <tr>\n",
       "      <th>top</th>\n",
       "      <td>e</td>\n",
       "      <td>x</td>\n",
       "      <td>y</td>\n",
       "      <td>n</td>\n",
       "      <td>f</td>\n",
       "      <td>n</td>\n",
       "      <td>c</td>\n",
       "      <td>b</td>\n",
       "      <td>b</td>\n",
       "      <td>b</td>\n",
       "      <td>s</td>\n",
       "      <td>s</td>\n",
       "      <td>w</td>\n",
       "      <td>w</td>\n",
       "      <td>o</td>\n",
       "      <td>p</td>\n",
       "      <td>w</td>\n",
       "      <td>v</td>\n",
       "      <td>d</td>\n",
       "    </tr>\n",
       "    <tr>\n",
       "      <th>freq</th>\n",
       "      <td>4208</td>\n",
       "      <td>3656</td>\n",
       "      <td>3244</td>\n",
       "      <td>2284</td>\n",
       "      <td>4748</td>\n",
       "      <td>3528</td>\n",
       "      <td>6812</td>\n",
       "      <td>5612</td>\n",
       "      <td>1728</td>\n",
       "      <td>6256</td>\n",
       "      <td>5176</td>\n",
       "      <td>4936</td>\n",
       "      <td>4464</td>\n",
       "      <td>4384</td>\n",
       "      <td>7488</td>\n",
       "      <td>3968</td>\n",
       "      <td>2388</td>\n",
       "      <td>4040</td>\n",
       "      <td>3148</td>\n",
       "    </tr>\n",
       "  </tbody>\n",
       "</table>\n",
       "</div>"
      ],
      "text/plain": [
       "       class cap-shape cap-surface cap-color bruises  odor gill-spacing  \\\n",
       "count   8124      8124        8124      8124    8124  8124         8124   \n",
       "unique     2         6           4        10       2     9            2   \n",
       "top        e         x           y         n       f     n            c   \n",
       "freq    4208      3656        3244      2284    4748  3528         6812   \n",
       "\n",
       "       gill-size gill-color stalk-root stalk-surface-above-ring  \\\n",
       "count       8124       8124       8124                     8124   \n",
       "unique         2         12          4                        4   \n",
       "top            b          b          b                        s   \n",
       "freq        5612       1728       6256                     5176   \n",
       "\n",
       "       stalk-surface-below-ring stalk-color-above-ring stalk-color-below-ring  \\\n",
       "count                      8124                   8124                   8124   \n",
       "unique                        4                      9                      9   \n",
       "top                           s                      w                      w   \n",
       "freq                       4936                   4464                   4384   \n",
       "\n",
       "       ring-number ring-type spore-print-color population habitat  \n",
       "count         8124      8124              8124       8124    8124  \n",
       "unique           3         5                 9          6       7  \n",
       "top              o         p                 w          v       d  \n",
       "freq          7488      3968              2388       4040    3148  "
      ]
     },
     "execution_count": 19,
     "metadata": {},
     "output_type": "execute_result"
    }
   ],
   "source": [
    "df_1.describe()"
   ]
  },
  {
   "cell_type": "code",
   "execution_count": 38,
   "id": "c355758c",
   "metadata": {},
   "outputs": [
    {
     "data": {
      "text/plain": [
       "Index(['cap-shape', 'cap-surface', 'cap-color', 'bruises', 'odor',\n",
       "       'gill-attachment', 'gill-spacing', 'gill-size', 'gill-color',\n",
       "       'stalk-shape', 'stalk-root', 'stalk-surface-above-ring',\n",
       "       'stalk-surface-below-ring', 'stalk-color-above-ring',\n",
       "       'stalk-color-below-ring', 'veil-type', 'veil-color', 'ring-number',\n",
       "       'ring-type', 'spore-print-color', 'population', 'habitat'],\n",
       "      dtype='object')"
      ]
     },
     "execution_count": 38,
     "metadata": {},
     "output_type": "execute_result"
    }
   ],
   "source": [
    "col=a.columns[1:]\n",
    "col"
   ]
  },
  {
   "cell_type": "code",
   "execution_count": 20,
   "id": "9be41ab8",
   "metadata": {},
   "outputs": [
    {
     "data": {
      "text/plain": [
       "Index(['class', 'cap-shape', 'cap-surface', 'cap-color', 'bruises', 'odor',\n",
       "       'gill-spacing', 'gill-size', 'gill-color', 'stalk-root',\n",
       "       'stalk-surface-above-ring', 'stalk-surface-below-ring',\n",
       "       'stalk-color-above-ring', 'stalk-color-below-ring', 'ring-number',\n",
       "       'ring-type', 'spore-print-color', 'population', 'habitat'],\n",
       "      dtype='object')"
      ]
     },
     "execution_count": 20,
     "metadata": {},
     "output_type": "execute_result"
    }
   ],
   "source": [
    "df_1.columns"
   ]
  },
  {
   "cell_type": "code",
   "execution_count": 23,
   "id": "ec809a0c",
   "metadata": {},
   "outputs": [
    {
     "data": {
      "image/png": "[encoded data removed]",
      "text/plain": [
       "<Figure size 1440x1440 with 18 Axes>"
      ]
     },
     "metadata": {
      "needs_background": "light"
     },
     "output_type": "display_data"
    }
   ],
   "source": [
    "cols = 4\n",
    "rows = 5\n",
    "fig = plt.figure(figsize= (20,20))\n",
    "\n",
    "\n",
    "# df.describe  nunique().\n",
    "#since entire df is of objects hence   all_cats = cars.select_dtypes(include='object')not done\n",
    "\n",
    "#cat_cols = df_1.columns[df_1.nunique() >2]   \n",
    "cat_cols =df_1.columns[1:]\n",
    " \n",
    "for i, col in enumerate(cat_cols):\n",
    "    \n",
    "    ax=fig.add_subplot(rows, cols, i+1)\n",
    "    \n",
    "    sns.countplot(x=df_1[col], ax=ax)\n",
    "    \n",
    "    plt.xticks(rotation=45, ha='right')\n",
    "    \n",
    "fig.tight_layout()  \n",
    "plt.show()"
   ]
  },
  {
   "cell_type": "code",
   "execution_count": 23,
   "id": "16927d4b",
   "metadata": {},
   "outputs": [
    {
     "data": {
      "text/plain": [
       "y    3244\n",
       "s    2556\n",
       "f    2320\n",
       "g       4\n",
       "Name: cap-surface, dtype: int64"
      ]
     },
     "execution_count": 23,
     "metadata": {},
     "output_type": "execute_result"
    },
    {
     "data": {
      "image/png": "[encoded data removed]",
      "text/plain": [
       "<Figure size 360x360 with 1 Axes>"
      ]
     },
     "metadata": {},
     "output_type": "display_data"
    }
   ],
   "source": [
    "plt.figure(figsize=(5,5))\n",
    "plt.pie(df['cap-surface'].value_counts(),startangle=90,autopct='%.2f',\n",
    "        labels=['s','y','f','g'],shadow=True)\n",
    "\n",
    "#Pie charts are not very popular with the visualization community. For one, the graph appears cluttered when the groups exceed four. Two, sometimes the widths for the slices are not intuitively clear.\n",
    "\n",
    "df['cap-surface'].value_counts()"
   ]
  },
  {
   "cell_type": "code",
   "execution_count": 43,
   "id": "55bc1331",
   "metadata": {},
   "outputs": [
    {
     "data": {
      "text/plain": [
       "<AxesSubplot:title={'center':'cap-surface'}, ylabel='cap-surface'>"
      ]
     },
     "execution_count": 43,
     "metadata": {},
     "output_type": "execute_result"
    },
    {
     "data": {
      "image/png": "[encoded data removed]",
      "text/plain": [
       "<Figure size 4320x360 with 1 Axes>"
      ]
     },
     "metadata": {},
     "output_type": "display_data"
    }
   ],
   "source": [
    "kwargs = dict(\n",
    "    startangle = 90,\n",
    "    colormap   = 'Pastel2',\n",
    "    fontsize   = 13,\n",
    "    explode    = (0.1,0.1,0.1,0.1),\n",
    "    figsize    = (60,5),\n",
    "    autopct    = '%1.1f%%',\n",
    "    title      = 'cap-surface')\n",
    "df['cap-surface'].value_counts().plot.pie(**kwargs)"
   ]
  },
  {
   "cell_type": "code",
   "execution_count": 26,
   "id": "852568e7",
   "metadata": {},
   "outputs": [],
   "source": [
    "cat_cols=list(df_1.columns)\n",
    "cat_cols=cat_cols[1:]\n"
   ]
  },
  {
   "cell_type": "markdown",
   "id": "52b4aadd",
   "metadata": {},
   "source": [
    "# Graphical Bivariate Analysis of Categorical Variables vs Categorical Variables:\n",
    "\n",
    "\n",
    "each ip feature with output feature"
   ]
  },
  {
   "cell_type": "markdown",
   "id": "fdaf66b3",
   "metadata": {},
   "source": [
    "# Myths Bursted:\n",
    "\n",
    "\n",
    "1.Generally it is said that mushroom grows on woods are harmless,but after EDA this myth is bursted since\n",
    "60% are edible but 40% mushroom grows on woods are poisonous.\n",
    "\n",
    "2.Mushrooms grows(habitat) on wood are 70% are poisonous and they are grows in several population.\n",
    "\n",
    "\n",
    "3.whenever odor is none/n,96%chances mushrooms are edible.wheneber odor=fishy,mushrooms are always poisonus.\n",
    "\n",
    "4.Its people assumption that Mushrooms whose has not odor are edible,but those mushrooms grows on wood in several population,so its cleared that they are poisonous(4% chances).\n",
    "\n",
    "5. Whenever mushrooms gill size=b/broad,it means 70%chances they are edible.  "
   ]
  },
  {
   "cell_type": "code",
   "execution_count": 105,
   "id": "49c0a658",
   "metadata": {},
   "outputs": [
    {
     "name": "stdout",
     "output_type": "stream",
     "text": [
      "class          e     p   All\n",
      "population                  \n",
      "a            384     0   384\n",
      "c            288    52   340\n",
      "n            400     0   400\n",
      "s            880   368  1248\n",
      "v           1192  2848  4040\n",
      "y           1064   648  1712\n",
      "All         4208  3916  8124\n"
     ]
    },
    {
     "data": {
      "text/html": [
       "<div>\n",
       "<style scoped>\n",
       "    .dataframe tbody tr th:only-of-type {\n",
       "        vertical-align: middle;\n",
       "    }\n",
       "\n",
       "    .dataframe tbody tr th {\n",
       "        vertical-align: top;\n",
       "    }\n",
       "\n",
       "    .dataframe thead th {\n",
       "        text-align: right;\n",
       "    }\n",
       "</style>\n",
       "<table border=\"1\" class=\"dataframe\">\n",
       "  <thead>\n",
       "    <tr style=\"text-align: right;\">\n",
       "      <th>class</th>\n",
       "      <th>e</th>\n",
       "      <th>p</th>\n",
       "    </tr>\n",
       "    <tr>\n",
       "      <th>population</th>\n",
       "      <th></th>\n",
       "      <th></th>\n",
       "    </tr>\n",
       "  </thead>\n",
       "  <tbody>\n",
       "    <tr>\n",
       "      <th>a</th>\n",
       "      <td>1.000000</td>\n",
       "      <td>0.000000</td>\n",
       "    </tr>\n",
       "    <tr>\n",
       "      <th>c</th>\n",
       "      <td>0.847059</td>\n",
       "      <td>0.152941</td>\n",
       "    </tr>\n",
       "    <tr>\n",
       "      <th>n</th>\n",
       "      <td>1.000000</td>\n",
       "      <td>0.000000</td>\n",
       "    </tr>\n",
       "    <tr>\n",
       "      <th>s</th>\n",
       "      <td>0.705128</td>\n",
       "      <td>0.294872</td>\n",
       "    </tr>\n",
       "    <tr>\n",
       "      <th>v</th>\n",
       "      <td>0.295050</td>\n",
       "      <td>0.704950</td>\n",
       "    </tr>\n",
       "    <tr>\n",
       "      <th>y</th>\n",
       "      <td>0.621495</td>\n",
       "      <td>0.378505</td>\n",
       "    </tr>\n",
       "  </tbody>\n",
       "</table>\n",
       "</div>"
      ],
      "text/plain": [
       "class              e         p\n",
       "population                    \n",
       "a           1.000000  0.000000\n",
       "c           0.847059  0.152941\n",
       "n           1.000000  0.000000\n",
       "s           0.705128  0.294872\n",
       "v           0.295050  0.704950\n",
       "y           0.621495  0.378505"
      ]
     },
     "execution_count": 105,
     "metadata": {},
     "output_type": "execute_result"
    }
   ],
   "source": [
    "print(pd.crosstab(df_1['population'],df_1['class'],margins=True))\n",
    "\n",
    "all=pd.crosstab(df_1['population'],df_1['class'],margins=True)['All']\n",
    "pd.crosstab(df_1['population'],df_1['class']).divide(all,axis=0).dropna()"
   ]
  },
  {
   "cell_type": "code",
   "execution_count": 28,
   "id": "1429ec43",
   "metadata": {},
   "outputs": [
    {
     "name": "stdout",
     "output_type": "stream",
     "text": [
      "d    3148\n",
      "g    2148\n",
      "p    1144\n",
      "l     832\n",
      "u     368\n",
      "m     292\n",
      "w     192\n",
      "Name: habitat, dtype: int64\n"
     ]
    },
    {
     "data": {
      "text/plain": [
       "<AxesSubplot:xlabel='habitat', ylabel='count'>"
      ]
     },
     "execution_count": 28,
     "metadata": {},
     "output_type": "execute_result"
    },
    {
     "data": {
      "image/png": "[encoded data removed]",
      "text/plain": [
       "<Figure size 432x288 with 1 Axes>"
      ]
     },
     "metadata": {
      "needs_background": "light"
     },
     "output_type": "display_data"
    }
   ],
   "source": [
    "print(df_1['habitat'].value_counts())\n",
    "\n",
    "sns.countplot(data=df_1,x='habitat',hue='class') "
   ]
  },
  {
   "cell_type": "code",
   "execution_count": 29,
   "id": "ce7308a9",
   "metadata": {},
   "outputs": [
    {
     "name": "stdout",
     "output_type": "stream",
     "text": [
      "class       e     p   All\n",
      "habitat                  \n",
      "d        1880  1268  3148\n",
      "g        1408   740  2148\n",
      "l         240   592   832\n",
      "m         256    36   292\n",
      "p         136  1008  1144\n",
      "u          96   272   368\n",
      "w         192     0   192\n",
      "All      4208  3916  8124\n"
     ]
    },
    {
     "data": {
      "text/html": [
       "<div>\n",
       "<style scoped>\n",
       "    .dataframe tbody tr th:only-of-type {\n",
       "        vertical-align: middle;\n",
       "    }\n",
       "\n",
       "    .dataframe tbody tr th {\n",
       "        vertical-align: top;\n",
       "    }\n",
       "\n",
       "    .dataframe thead th {\n",
       "        text-align: right;\n",
       "    }\n",
       "</style>\n",
       "<table border=\"1\" class=\"dataframe\">\n",
       "  <thead>\n",
       "    <tr style=\"text-align: right;\">\n",
       "      <th>class</th>\n",
       "      <th>e</th>\n",
       "      <th>p</th>\n",
       "    </tr>\n",
       "    <tr>\n",
       "      <th>habitat</th>\n",
       "      <th></th>\n",
       "      <th></th>\n",
       "    </tr>\n",
       "  </thead>\n",
       "  <tbody>\n",
       "    <tr>\n",
       "      <th>d</th>\n",
       "      <td>0.597205</td>\n",
       "      <td>0.402795</td>\n",
       "    </tr>\n",
       "    <tr>\n",
       "      <th>g</th>\n",
       "      <td>0.655493</td>\n",
       "      <td>0.344507</td>\n",
       "    </tr>\n",
       "    <tr>\n",
       "      <th>l</th>\n",
       "      <td>0.288462</td>\n",
       "      <td>0.711538</td>\n",
       "    </tr>\n",
       "    <tr>\n",
       "      <th>m</th>\n",
       "      <td>0.876712</td>\n",
       "      <td>0.123288</td>\n",
       "    </tr>\n",
       "    <tr>\n",
       "      <th>p</th>\n",
       "      <td>0.118881</td>\n",
       "      <td>0.881119</td>\n",
       "    </tr>\n",
       "    <tr>\n",
       "      <th>u</th>\n",
       "      <td>0.260870</td>\n",
       "      <td>0.739130</td>\n",
       "    </tr>\n",
       "    <tr>\n",
       "      <th>w</th>\n",
       "      <td>1.000000</td>\n",
       "      <td>0.000000</td>\n",
       "    </tr>\n",
       "  </tbody>\n",
       "</table>\n",
       "</div>"
      ],
      "text/plain": [
       "class           e         p\n",
       "habitat                    \n",
       "d        0.597205  0.402795\n",
       "g        0.655493  0.344507\n",
       "l        0.288462  0.711538\n",
       "m        0.876712  0.123288\n",
       "p        0.118881  0.881119\n",
       "u        0.260870  0.739130\n",
       "w        1.000000  0.000000"
      ]
     },
     "execution_count": 29,
     "metadata": {},
     "output_type": "execute_result"
    }
   ],
   "source": [
    "print(pd.crosstab(df_1['habitat'],df_1['class'],margins=True))\n",
    "all=pd.crosstab(df_1['habitat'],df_1['class'],margins=True)['All']\n",
    "pd.crosstab(df_1['habitat'],df_1['class']).divide(all,axis=0).dropna() \n",
    "\n"
   ]
  },
  {
   "cell_type": "code",
   "execution_count": 109,
   "id": "36d5d4a2",
   "metadata": {},
   "outputs": [
    {
     "data": {
      "text/plain": [
       "<AxesSubplot:xlabel='habitat', ylabel='count'>"
      ]
     },
     "execution_count": 109,
     "metadata": {},
     "output_type": "execute_result"
    },
    {
     "data": {
      "image/png": "[encoded data removed]",
      "text/plain": [
       "<Figure size 432x288 with 1 Axes>"
      ]
     },
     "metadata": {
      "needs_background": "light"
     },
     "output_type": "display_data"
    }
   ],
   "source": [
    "sns.countplot(data=df_1,x='habitat',hue='population') "
   ]
  },
  {
   "cell_type": "code",
   "execution_count": 110,
   "id": "316b668d",
   "metadata": {},
   "outputs": [
    {
     "name": "stdout",
     "output_type": "stream",
     "text": [
      "population    a    c    n     s     v     y   All\n",
      "habitat                                          \n",
      "d             0   36    0    96  1904  1112  3148\n",
      "g           384    0  272   840   388   264  2148\n",
      "l             0  112    0     0   720     0   832\n",
      "m             0    0  128   128    36     0   292\n",
      "p             0    0    0    48   808   288  1144\n",
      "u             0    0    0   136   184    48   368\n",
      "w             0  192    0     0     0     0   192\n",
      "All         384  340  400  1248  4040  1712  8124\n"
     ]
    },
    {
     "data": {
      "text/html": [
       "<div>\n",
       "<style scoped>\n",
       "    .dataframe tbody tr th:only-of-type {\n",
       "        vertical-align: middle;\n",
       "    }\n",
       "\n",
       "    .dataframe tbody tr th {\n",
       "        vertical-align: top;\n",
       "    }\n",
       "\n",
       "    .dataframe thead th {\n",
       "        text-align: right;\n",
       "    }\n",
       "</style>\n",
       "<table border=\"1\" class=\"dataframe\">\n",
       "  <thead>\n",
       "    <tr style=\"text-align: right;\">\n",
       "      <th>population</th>\n",
       "      <th>a</th>\n",
       "      <th>c</th>\n",
       "      <th>n</th>\n",
       "      <th>s</th>\n",
       "      <th>v</th>\n",
       "      <th>y</th>\n",
       "    </tr>\n",
       "    <tr>\n",
       "      <th>habitat</th>\n",
       "      <th></th>\n",
       "      <th></th>\n",
       "      <th></th>\n",
       "      <th></th>\n",
       "      <th></th>\n",
       "      <th></th>\n",
       "    </tr>\n",
       "  </thead>\n",
       "  <tbody>\n",
       "    <tr>\n",
       "      <th>d</th>\n",
       "      <td>0.000000</td>\n",
       "      <td>0.011436</td>\n",
       "      <td>0.000000</td>\n",
       "      <td>0.030496</td>\n",
       "      <td>0.604828</td>\n",
       "      <td>0.353240</td>\n",
       "    </tr>\n",
       "    <tr>\n",
       "      <th>g</th>\n",
       "      <td>0.178771</td>\n",
       "      <td>0.000000</td>\n",
       "      <td>0.126629</td>\n",
       "      <td>0.391061</td>\n",
       "      <td>0.180633</td>\n",
       "      <td>0.122905</td>\n",
       "    </tr>\n",
       "    <tr>\n",
       "      <th>l</th>\n",
       "      <td>0.000000</td>\n",
       "      <td>0.134615</td>\n",
       "      <td>0.000000</td>\n",
       "      <td>0.000000</td>\n",
       "      <td>0.865385</td>\n",
       "      <td>0.000000</td>\n",
       "    </tr>\n",
       "    <tr>\n",
       "      <th>m</th>\n",
       "      <td>0.000000</td>\n",
       "      <td>0.000000</td>\n",
       "      <td>0.438356</td>\n",
       "      <td>0.438356</td>\n",
       "      <td>0.123288</td>\n",
       "      <td>0.000000</td>\n",
       "    </tr>\n",
       "    <tr>\n",
       "      <th>p</th>\n",
       "      <td>0.000000</td>\n",
       "      <td>0.000000</td>\n",
       "      <td>0.000000</td>\n",
       "      <td>0.041958</td>\n",
       "      <td>0.706294</td>\n",
       "      <td>0.251748</td>\n",
       "    </tr>\n",
       "    <tr>\n",
       "      <th>u</th>\n",
       "      <td>0.000000</td>\n",
       "      <td>0.000000</td>\n",
       "      <td>0.000000</td>\n",
       "      <td>0.369565</td>\n",
       "      <td>0.500000</td>\n",
       "      <td>0.130435</td>\n",
       "    </tr>\n",
       "    <tr>\n",
       "      <th>w</th>\n",
       "      <td>0.000000</td>\n",
       "      <td>1.000000</td>\n",
       "      <td>0.000000</td>\n",
       "      <td>0.000000</td>\n",
       "      <td>0.000000</td>\n",
       "      <td>0.000000</td>\n",
       "    </tr>\n",
       "  </tbody>\n",
       "</table>\n",
       "</div>"
      ],
      "text/plain": [
       "population         a         c         n         s         v         y\n",
       "habitat                                                               \n",
       "d           0.000000  0.011436  0.000000  0.030496  0.604828  0.353240\n",
       "g           0.178771  0.000000  0.126629  0.391061  0.180633  0.122905\n",
       "l           0.000000  0.134615  0.000000  0.000000  0.865385  0.000000\n",
       "m           0.000000  0.000000  0.438356  0.438356  0.123288  0.000000\n",
       "p           0.000000  0.000000  0.000000  0.041958  0.706294  0.251748\n",
       "u           0.000000  0.000000  0.000000  0.369565  0.500000  0.130435\n",
       "w           0.000000  1.000000  0.000000  0.000000  0.000000  0.000000"
      ]
     },
     "execution_count": 110,
     "metadata": {},
     "output_type": "execute_result"
    }
   ],
   "source": [
    "print(pd.crosstab(df_1['habitat'],df_1['population'],margins=True))\n",
    "all=pd.crosstab(df_1['habitat'],df_1['population'],margins=True)['All'] \n",
    "pd.crosstab(df_1['habitat'],df_1['population']).divide(all,axis=0).dropna() "
   ]
  },
  {
   "cell_type": "code",
   "execution_count": 30,
   "id": "8ddb252d",
   "metadata": {},
   "outputs": [],
   "source": []
  },
  {
   "cell_type": "code",
   "execution_count": 31,
   "id": "743796b2",
   "metadata": {},
   "outputs": [
    {
     "name": "stdout",
     "output_type": "stream",
     "text": [
      "class     e     p   All\n",
      "odor                   \n",
      "a       400     0   400\n",
      "c         0   192   192\n",
      "f         0  2160  2160\n",
      "l       400     0   400\n",
      "m         0    36    36\n",
      "n      3408   120  3528\n",
      "p         0   256   256\n",
      "s         0   576   576\n",
      "y         0   576   576\n",
      "All    4208  3916  8124\n",
      "class         e         p\n",
      "odor                     \n",
      "a      1.000000  0.000000\n",
      "c      0.000000  1.000000\n",
      "f      0.000000  1.000000\n",
      "l      1.000000  0.000000\n",
      "m      0.000000  1.000000\n",
      "n      0.965986  0.034014\n",
      "p      0.000000  1.000000\n",
      "s      0.000000  1.000000\n",
      "y      0.000000  1.000000\n",
      "n    3528\n",
      "f    2160\n",
      "y     576\n",
      "s     576\n",
      "a     400\n",
      "l     400\n",
      "p     256\n",
      "c     192\n",
      "m      36\n",
      "Name: odor, dtype: int64\n"
     ]
    },
    {
     "data": {
      "text/plain": [
       "<AxesSubplot:xlabel='odor', ylabel='count'>"
      ]
     },
     "execution_count": 31,
     "metadata": {},
     "output_type": "execute_result"
    },
    {
     "data": {
      "image/png": "[encoded data removed]",
      "text/plain": [
       "<Figure size 432x288 with 1 Axes>"
      ]
     },
     "metadata": {
      "needs_background": "light"
     },
     "output_type": "display_data"
    }
   ],
   "source": [
    "print(pd.crosstab(df_1['odor'],df['class'],margins=True))\n",
    "all=pd.crosstab(df_1['odor'],df['class'],margins=True)['All'] \n",
    "print(pd.crosstab(df_1['odor'],df['class']).divide(all,axis=0).dropna() )\n",
    "\n",
    "\n",
    "print(df_1['odor'].value_counts())# as a poisouns so INDICATIVE FEA\n",
    "sns.countplot(data=df_1,x='odor',hue='class')\n"
   ]
  },
  {
   "cell_type": "code",
   "execution_count": 37,
   "id": "8718b8f1",
   "metadata": {},
   "outputs": [
    {
     "data": {
      "text/plain": [
       "<AxesSubplot:xlabel='population', ylabel='count'>"
      ]
     },
     "execution_count": 37,
     "metadata": {},
     "output_type": "execute_result"
    },
    {
     "data": {
      "image/png": "[encoded data removed]",
      "text/plain": [
       "<Figure size 432x288 with 1 Axes>"
      ]
     },
     "metadata": {
      "needs_background": "light"
     },
     "output_type": "display_data"
    }
   ],
   "source": [
    "sns.countplot(data=df_1,x='population',hue='odor') "
   ]
  },
  {
   "cell_type": "code",
   "execution_count": 36,
   "id": "96ea8904",
   "metadata": {},
   "outputs": [
    {
     "data": {
      "text/plain": [
       "<AxesSubplot:xlabel='odor', ylabel='count'>"
      ]
     },
     "execution_count": 36,
     "metadata": {},
     "output_type": "execute_result"
    },
    {
     "data": {
      "image/png": "[encoded data removed]",
      "text/plain": [
       "<Figure size 432x288 with 1 Axes>"
      ]
     },
     "metadata": {
      "needs_background": "light"
     },
     "output_type": "display_data"
    }
   ],
   "source": [
    "sns.countplot(data=df_1,x='odor',hue='habitat') "
   ]
  },
  {
   "cell_type": "code",
   "execution_count": 124,
   "id": "52f516e8",
   "metadata": {},
   "outputs": [
    {
     "name": "stdout",
     "output_type": "stream",
     "text": [
      "n    2284\n",
      "g    1840\n",
      "e    1500\n",
      "y    1072\n",
      "w    1040\n",
      "b     168\n",
      "p     144\n",
      "c      44\n",
      "u      16\n",
      "r      16\n",
      "Name: cap-color, dtype: int64\n",
      "class             e         p\n",
      "cap-color                    \n",
      "b          0.285714  0.714286\n",
      "c          0.727273  0.272727\n",
      "e          0.416000  0.584000\n",
      "g          0.560870  0.439130\n",
      "n          0.553415  0.446585\n",
      "p          0.388889  0.611111\n",
      "r          1.000000  0.000000\n",
      "u          1.000000  0.000000\n",
      "w          0.692308  0.307692\n",
      "y          0.373134  0.626866\n"
     ]
    },
    {
     "data": {
      "image/png": "[encoded data removed]",
      "text/plain": [
       "<Figure size 432x288 with 1 Axes>"
      ]
     },
     "metadata": {
      "needs_background": "light"
     },
     "output_type": "display_data"
    }
   ],
   "source": [
    "print(df_1['cap-color'].value_counts())\n",
    "\n",
    "sns.countplot(data=df_1,x='cap-color',hue='class')\n",
    "\n",
    "all=pd.crosstab(df_1['cap-color'],df['class'],margins=True)['All'] \n",
    "print(pd.crosstab(df_1['cap-color'],df['class']).divide(all,axis=0).dropna() )"
   ]
  },
  {
   "cell_type": "code",
   "execution_count": 125,
   "id": "3dc3ce1d",
   "metadata": {},
   "outputs": [
    {
     "data": {
      "text/plain": [
       "<AxesSubplot:xlabel='cap-color', ylabel='count'>"
      ]
     },
     "execution_count": 125,
     "metadata": {},
     "output_type": "execute_result"
    },
    {
     "data": {
      "image/png": "[encoded data removed]",
      "text/plain": [
       "<Figure size 432x288 with 1 Axes>"
      ]
     },
     "metadata": {
      "needs_background": "light"
     },
     "output_type": "display_data"
    }
   ],
   "source": [
    "sns.countplot(data=df_1,x='cap-color',hue='odor')# when cap color=red,odor=none"
   ]
  },
  {
   "cell_type": "code",
   "execution_count": 126,
   "id": "bbd1a8a9",
   "metadata": {},
   "outputs": [
    {
     "name": "stdout",
     "output_type": "stream",
     "text": [
      "x    3656\n",
      "f    3152\n",
      "k     828\n",
      "b     452\n",
      "s      32\n",
      "c       4\n",
      "Name: cap-shape, dtype: int64\n"
     ]
    },
    {
     "data": {
      "text/plain": [
       "<AxesSubplot:xlabel='cap-shape', ylabel='count'>"
      ]
     },
     "execution_count": 126,
     "metadata": {},
     "output_type": "execute_result"
    },
    {
     "data": {
      "image/png": "[encoded data removed]",
      "text/plain": [
       "<Figure size 432x288 with 1 Axes>"
      ]
     },
     "metadata": {
      "needs_background": "light"
     },
     "output_type": "display_data"
    }
   ],
   "source": [
    "print(df_1['cap-shape'].value_counts())\n",
    "sns.countplot(data=df_1,x='cap-shape',hue='class') #NOT INDICATIVE"
   ]
  },
  {
   "cell_type": "code",
   "execution_count": 128,
   "id": "3309a7f3",
   "metadata": {},
   "outputs": [
    {
     "name": "stdout",
     "output_type": "stream",
     "text": [
      "f    4748\n",
      "t    3376\n",
      "Name: bruises, dtype: int64\n",
      "class           e         p\n",
      "bruises                    \n",
      "f        0.306655  0.693345\n",
      "t        0.815166  0.184834\n"
     ]
    },
    {
     "data": {
      "image/png": "[encoded data removed]",
      "text/plain": [
       "<Figure size 432x288 with 1 Axes>"
      ]
     },
     "metadata": {
      "needs_background": "light"
     },
     "output_type": "display_data"
    }
   ],
   "source": [
    "print(df_1['bruises'].value_counts())\n",
    "sns.countplot(data=df_1,x='bruises',hue='class') \n",
    "all=pd.crosstab(df_1['bruises'],df['class'],margins=True)['All'] \n",
    "print(pd.crosstab(df_1['bruises'],df['class']).divide(all,axis=0).dropna() )"
   ]
  },
  {
   "cell_type": "code",
   "execution_count": 129,
   "id": "31bd1afb",
   "metadata": {},
   "outputs": [
    {
     "name": "stdout",
     "output_type": "stream",
     "text": [
      "c    6812\n",
      "w    1312\n",
      "Name: gill-spacing, dtype: int64\n"
     ]
    },
    {
     "data": {
      "text/plain": [
       "<AxesSubplot:xlabel='gill-spacing', ylabel='count'>"
      ]
     },
     "execution_count": 129,
     "metadata": {},
     "output_type": "execute_result"
    },
    {
     "data": {
      "image/png": "[encoded data removed]",
      "text/plain": [
       "<Figure size 432x288 with 1 Axes>"
      ]
     },
     "metadata": {
      "needs_background": "light"
     },
     "output_type": "display_data"
    }
   ],
   "source": [
    "print(df_1['gill-spacing'].value_counts())\n",
    "sns.countplot(data=df,x='gill-spacing',hue='class')\n",
    "#NOT INDICATIVE"
   ]
  },
  {
   "cell_type": "code",
   "execution_count": 38,
   "id": "83db22d4",
   "metadata": {},
   "outputs": [
    {
     "name": "stdout",
     "output_type": "stream",
     "text": [
      "b    5612\n",
      "n    2512\n",
      "Name: gill-size, dtype: int64\n",
      "class             e         p\n",
      "gill-size                    \n",
      "b          0.698503  0.301497\n",
      "n          0.114650  0.885350\n"
     ]
    },
    {
     "data": {
      "image/png": "[encoded data removed]",
      "text/plain": [
       "<Figure size 432x288 with 1 Axes>"
      ]
     },
     "metadata": {
      "needs_background": "light"
     },
     "output_type": "display_data"
    }
   ],
   "source": [
    "print(df_1['gill-size'].value_counts())\n",
    "sns.countplot(data=df_1,x='gill-size',hue='class')\n",
    "\n",
    "all=pd.crosstab(df_1['gill-size'],df['class'],margins=True)['All'] \n",
    "print(pd.crosstab(df_1['gill-size'],df['class']).divide(all,axis=0).dropna() )\n",
    "\n",
    "#whenevr gill size=b/broad,it means 70%chances they are edible"
   ]
  },
  {
   "cell_type": "code",
   "execution_count": 132,
   "id": "520cd88e",
   "metadata": {},
   "outputs": [
    {
     "name": "stdout",
     "output_type": "stream",
     "text": [
      "b    1728\n",
      "p    1492\n",
      "w    1202\n",
      "n    1048\n",
      "g     752\n",
      "h     732\n",
      "u     492\n",
      "k     408\n",
      "e      96\n",
      "y      86\n",
      "o      64\n",
      "r      24\n",
      "Name: gill-color, dtype: int64\n"
     ]
    },
    {
     "data": {
      "text/plain": [
       "<AxesSubplot:xlabel='gill-color', ylabel='count'>"
      ]
     },
     "execution_count": 132,
     "metadata": {},
     "output_type": "execute_result"
    },
    {
     "data": {
      "image/png": "[encoded data removed]",
      "text/plain": [
       "<Figure size 432x288 with 1 Axes>"
      ]
     },
     "metadata": {
      "needs_background": "light"
     },
     "output_type": "display_data"
    }
   ],
   "source": [
    "print(df['gill-color'].value_counts())\n",
    "sns.countplot(data=df,x='gill-color',hue='class') # indicative since b =buff=higly pois 100% all are pois,\n",
    "#INDICATIVE FEATURE\n",
    "\n",
    "sns.countplot(data=df_1,x='gill-color',hue='bruises')\n",
    "# hue=pop/odor/habitat/bruises takun pahilyavr odor,habitat nahi useful ethe\n",
    "all=pd.crosstab(df_1['gill-color'],df['class'],margins=True)['All'] \n",
    "print(pd.crosstab(df_1['gill-color'],df['class']).divide(all,axis=0).dropna() )\n"
   ]
  },
  {
   "cell_type": "code",
   "execution_count": 134,
   "id": "95be5a4a",
   "metadata": {},
   "outputs": [
    {
     "name": "stdout",
     "output_type": "stream",
     "text": [
      "b    0.770064\n",
      "e    0.137863\n",
      "c    0.068439\n",
      "r    0.023634\n",
      "Name: stalk-root, dtype: float64\n"
     ]
    },
    {
     "data": {
      "text/plain": [
       "<AxesSubplot:xlabel='stalk-root', ylabel='count'>"
      ]
     },
     "execution_count": 134,
     "metadata": {},
     "output_type": "execute_result"
    },
    {
     "data": {
      "image/png": "[encoded data removed]",
      "text/plain": [
       "<Figure size 432x288 with 1 Axes>"
      ]
     },
     "metadata": {
      "needs_background": "light"
     },
     "output_type": "display_data"
    }
   ],
   "source": [
    "print(df_1['stalk-root'].value_counts(normalize=True))\n",
    "sns.countplot(data=df_1,x='stalk-root',hue='class') # NOT indicative "
   ]
  },
  {
   "cell_type": "code",
   "execution_count": 47,
   "id": "e38c9381",
   "metadata": {},
   "outputs": [
    {
     "name": "stdout",
     "output_type": "stream",
     "text": [
      "s    0.637125\n",
      "k    0.291974\n",
      "f    0.067947\n",
      "y    0.002954\n",
      "Name: stalk-surface-above-ring, dtype: float64\n",
      "class         e         p\n",
      "k      0.352941  5.460784\n",
      "y      0.186047  0.093023\n"
     ]
    },
    {
     "data": {
      "image/png": "[encoded data removed]",
      "text/plain": [
       "<Figure size 432x288 with 1 Axes>"
      ]
     },
     "metadata": {
      "needs_background": "light"
     },
     "output_type": "display_data"
    }
   ],
   "source": [
    "print(df_1['stalk-surface-above-ring'].value_counts(normalize=True))\n",
    "sns.countplot(data=df_1,x='stalk-surface-above-ring',hue='class') # NOT INDICATIVE\n",
    "ll=pd.crosstab(df_1['stalk-surface-above-ring'],df['class'],margins=True)['All'] \n",
    "ll\n",
    "print(pd.crosstab(df_1['stalk-surface-above-ring'],df['class']).divide(all,axis=0).dropna() )"
   ]
  },
  {
   "cell_type": "code",
   "execution_count": 137,
   "id": "e84fa17e",
   "metadata": {},
   "outputs": [
    {
     "name": "stdout",
     "output_type": "stream",
     "text": [
      "s    4936\n",
      "k    2304\n",
      "f     600\n",
      "y     284\n",
      "Name: stalk-surface-below-ring, dtype: int64\n"
     ]
    },
    {
     "data": {
      "text/plain": [
       "<AxesSubplot:xlabel='stalk-surface-below-ring', ylabel='count'>"
      ]
     },
     "execution_count": 137,
     "metadata": {},
     "output_type": "execute_result"
    },
    {
     "data": {
      "image/png": "[encoded data removed]",
      "text/plain": [
       "<Figure size 432x288 with 1 Axes>"
      ]
     },
     "metadata": {
      "needs_background": "light"
     },
     "output_type": "display_data"
    }
   ],
   "source": [
    "print(df_1['stalk-surface-below-ring'].value_counts())\n",
    "sns.countplot(data=df_1,x='stalk-surface-below-ring',hue='class') # NOT indicative"
   ]
  },
  {
   "cell_type": "code",
   "execution_count": 138,
   "id": "9558d283",
   "metadata": {},
   "outputs": [
    {
     "name": "stdout",
     "output_type": "stream",
     "text": [
      "w    0.549483\n",
      "p    0.230428\n",
      "g    0.070901\n",
      "n    0.055145\n",
      "b    0.053176\n",
      "o    0.023634\n",
      "e    0.011817\n",
      "c    0.004431\n",
      "y    0.000985\n",
      "Name: stalk-color-above-ring, dtype: float64\n"
     ]
    },
    {
     "data": {
      "text/plain": [
       "<AxesSubplot:xlabel='stalk-color-above-ring', ylabel='count'>"
      ]
     },
     "execution_count": 138,
     "metadata": {},
     "output_type": "execute_result"
    },
    {
     "data": {
      "image/png": "[encoded data removed]",
      "text/plain": [
       "<Figure size 432x288 with 1 Axes>"
      ]
     },
     "metadata": {
      "needs_background": "light"
     },
     "output_type": "display_data"
    }
   ],
   "source": [
    "print(df_1['stalk-color-above-ring'].value_counts(normalize=True))\n",
    "sns.countplot(data=df_1,x='stalk-color-above-ring',hue='class') #not indicative "
   ]
  },
  {
   "cell_type": "code",
   "execution_count": 139,
   "id": "b9ef30d4",
   "metadata": {},
   "outputs": [
    {
     "name": "stdout",
     "output_type": "stream",
     "text": [
      "w    0.539636\n",
      "p    0.230428\n",
      "g    0.070901\n",
      "n    0.063023\n",
      "b    0.053176\n",
      "o    0.023634\n",
      "e    0.011817\n",
      "c    0.004431\n",
      "y    0.002954\n",
      "Name: stalk-color-below-ring, dtype: float64\n"
     ]
    },
    {
     "data": {
      "text/plain": [
       "<AxesSubplot:xlabel='stalk-color-below-ring', ylabel='count'>"
      ]
     },
     "execution_count": 139,
     "metadata": {},
     "output_type": "execute_result"
    },
    {
     "data": {
      "image/png": "[encoded data removed]",
      "text/plain": [
       "<Figure size 432x288 with 1 Axes>"
      ]
     },
     "metadata": {
      "needs_background": "light"
     },
     "output_type": "display_data"
    }
   ],
   "source": [
    "print(df_1['stalk-color-below-ring'].value_counts(normalize=True))\n",
    "sns.countplot(data=df_1,x='stalk-color-below-ring',hue='class') #not indicative"
   ]
  },
  {
   "cell_type": "code",
   "execution_count": 141,
   "id": "ded7b87e",
   "metadata": {},
   "outputs": [
    {
     "name": "stdout",
     "output_type": "stream",
     "text": [
      "o    7488\n",
      "t     600\n",
      "n      36\n",
      "Name: ring-number, dtype: int64\n"
     ]
    },
    {
     "data": {
      "text/plain": [
       "<AxesSubplot:xlabel='ring-number', ylabel='count'>"
      ]
     },
     "execution_count": 141,
     "metadata": {},
     "output_type": "execute_result"
    },
    {
     "data": {
      "image/png": "[encoded data removed]",
      "text/plain": [
       "<Figure size 432x288 with 1 Axes>"
      ]
     },
     "metadata": {
      "needs_background": "light"
     },
     "output_type": "display_data"
    }
   ],
   "source": [
    "print(df_1['ring-number'].value_counts())\n",
    "sns.countplot(data=df_1,x='ring-number',hue='class') \n"
   ]
  },
  {
   "cell_type": "code",
   "execution_count": 50,
   "id": "73e5306c",
   "metadata": {},
   "outputs": [
    {
     "name": "stdout",
     "output_type": "stream",
     "text": [
      "p    0.488429\n",
      "e    0.341704\n",
      "l    0.159527\n",
      "f    0.005908\n",
      "n    0.004431\n",
      "Name: ring-type, dtype: float64\n",
      "class          e          p\n",
      "e      10.500000  18.416667\n",
      "n       0.000000   0.034351\n",
      "p       2.112601   0.546917\n"
     ]
    },
    {
     "data": {
      "image/png": "[encoded data removed]",
      "text/plain": [
       "<Figure size 432x288 with 1 Axes>"
      ]
     },
     "metadata": {
      "needs_background": "light"
     },
     "output_type": "display_data"
    }
   ],
   "source": [
    "print(df_1['ring-type'].value_counts(normalize=True))\n",
    "sns.countplot(data=df_1,x='ring-type',hue='class') \n",
    "ll=pd.crosstab(df_1['ring-type'],df['class'],margins=True)['All'] \n",
    "print(pd.crosstab(df_1['ring-type'],df['class']).divide(all,axis=0).dropna() )"
   ]
  },
  {
   "cell_type": "code",
   "execution_count": 145,
   "id": "1bb7f226",
   "metadata": {},
   "outputs": [
    {
     "name": "stdout",
     "output_type": "stream",
     "text": [
      "w    0.293944\n",
      "n    0.242245\n",
      "k    0.230428\n",
      "h    0.200886\n",
      "r    0.008863\n",
      "u    0.005908\n",
      "o    0.005908\n",
      "y    0.005908\n",
      "b    0.005908\n",
      "Name: spore-print-color, dtype: float64\n"
     ]
    },
    {
     "data": {
      "text/plain": [
       "<AxesSubplot:xlabel='spore-print-color', ylabel='count'>"
      ]
     },
     "execution_count": 145,
     "metadata": {},
     "output_type": "execute_result"
    },
    {
     "data": {
      "image/png": "[encoded data removed]",
      "text/plain": [
       "<Figure size 432x288 with 1 Axes>"
      ]
     },
     "metadata": {
      "needs_background": "light"
     },
     "output_type": "display_data"
    }
   ],
   "source": [
    "print(df_1['spore-print-color'].value_counts(normalize=True))\n",
    "sns.countplot(data=df_1,x='spore-print-color',hue='class') "
   ]
  },
  {
   "cell_type": "code",
   "execution_count": 172,
   "id": "d57c0247",
   "metadata": {},
   "outputs": [],
   "source": [
    "from dython.nominal import associations  # using dython library"
   ]
  },
  {
   "cell_type": "markdown",
   "id": "354f15a5",
   "metadata": {},
   "source": [
    "# Checking association/correlation between categorical variables using theil'u\n",
    "\n",
    "\n",
    "\n",
    "\n",
    "\n",
    "\n",
    "\n",
    "Why theils_u??    Why not chi2,crammer's v?\n",
    "\n",
    "\n",
    "\n",
    "\n",
    "\n",
    "\n",
    "\n",
    "Please refer below blog\n",
    "\n",
    "\n",
    "https://towardsdatascience.com/the-search-for-categorical-correlation-a1cf7f1888c9"
   ]
  },
  {
   "cell_type": "code",
   "execution_count": 186,
   "id": "2c9e6117",
   "metadata": {},
   "outputs": [
    {
     "data": {
      "image/png": "[encoded data removed]",
      "text/plain": [
       "<Figure size 1080x1080 with 2 Axes>"
      ]
     },
     "metadata": {
      "needs_background": "light"
     },
     "output_type": "display_data"
    },
    {
     "data": {
      "text/plain": [
       "{'corr':                              class  cap-shape  cap-surface  cap-color  \\\n",
       " class                     1.000000   0.048842     0.028617   0.036083   \n",
       " cap-shape                 0.029522   1.000000     0.030204   0.067283   \n",
       " cap-surface               0.018147   0.031688     1.000000   0.070244   \n",
       " cap-color                 0.014361   0.044305     0.044089   1.000000   \n",
       " bruises                   0.196440   0.057126     0.013462   0.041292   \n",
       " odor                      0.390648   0.080488     0.071845   0.245707   \n",
       " gill-attachment           0.081818   0.069684     0.186513   0.251221   \n",
       " gill-spacing              0.158154   0.007295     0.166868   0.193235   \n",
       " gill-size                 0.257946   0.098364     0.068052   0.202591   \n",
       " gill-color                0.137597   0.063356     0.063236   0.180369   \n",
       " stalk-shape               0.007616   0.085221     0.004689   0.310193   \n",
       " stalk-root                0.100614   0.142337     0.099378   0.258892   \n",
       " stalk-surface-above-ring  0.233124   0.026638     0.046352   0.130337   \n",
       " stalk-surface-below-ring  0.194330   0.023274     0.048733   0.157624   \n",
       " stalk-color-above-ring    0.131064   0.049681     0.090734   0.203376   \n",
       " stalk-color-below-ring    0.122040   0.046277     0.092425   0.200554   \n",
       " veil-color                0.121368   0.077393     0.212024   0.240429   \n",
       " ring-number               0.091406   0.099010     0.035112   0.190271   \n",
       " ring-type                 0.207164   0.091468     0.094051   0.279512   \n",
       " spore-print-color         0.218182   0.102838     0.060604   0.217585   \n",
       " population                0.100808   0.090186     0.097547   0.171243   \n",
       " habitat                   0.068946   0.076914     0.070899   0.206435   \n",
       " \n",
       "                            bruises      odor  gill-attachment  gill-spacing  \\\n",
       " class                     0.192559  0.906920         0.014178      0.100977   \n",
       " cap-shape                 0.033847  0.112945         0.007299      0.002815   \n",
       " cap-surface               0.008368  0.105770         0.020496      0.067561   \n",
       " cap-color                 0.016110  0.227037         0.017327      0.049105   \n",
       " bruises                   1.000000  0.410174         0.020811      0.078857   \n",
       " odor                      0.173188  1.000000         0.015647      0.073545   \n",
       " gill-attachment           0.117721  0.209629         1.000000      0.038487   \n",
       " gill-spacing              0.121069  0.267419         0.010446      1.000000   \n",
       " gill-size                 0.121059  0.517777         0.015708      0.010181   \n",
       " gill-color                0.124545  0.286253         0.037764      0.032005   \n",
       " stalk-shape               0.007253  0.301930         0.032305      0.004874   \n",
       " stalk-root                0.096638  0.550725         0.006192      0.168787   \n",
       " stalk-surface-above-ring  0.257665  0.352256         0.007011      0.083129   \n",
       " stalk-surface-below-ring  0.218007  0.361275         0.012214      0.067809   \n",
       " stalk-color-above-ring    0.116434  0.268716         0.087101      0.082114   \n",
       " stalk-color-below-ring    0.118711  0.254991         0.085280      0.071050   \n",
       " veil-color                0.098829  0.153944         0.766812      0.044051   \n",
       " ring-number               0.011390  0.320890         0.024077      0.079648   \n",
       " ring-type                 0.329045  0.492533         0.020962      0.049090   \n",
       " spore-print-color         0.136186  0.432107         0.051854      0.039399   \n",
       " population                0.038606  0.228852         0.026963      0.144702   \n",
       " habitat                   0.108533  0.219026         0.032364      0.090146   \n",
       " \n",
       "                           gill-size  gill-color  ...  \\\n",
       " class                      0.230369    0.417367  ...   \n",
       " cap-shape                  0.053098    0.116157  ...   \n",
       " cap-surface                0.038540    0.121633  ...   \n",
       " cap-color                  0.072013    0.217754  ...   \n",
       " bruises                    0.110296    0.385391  ...   \n",
       " odor                       0.199184    0.374005  ...   \n",
       " gill-attachment            0.080954    0.661019  ...   \n",
       " gill-spacing               0.014241    0.152050  ...   \n",
       " gill-size                  1.000000    0.549872  ...   \n",
       " gill-color                 0.161900    1.000000  ...   \n",
       " stalk-shape                0.034725    0.367980  ...   \n",
       " stalk-root                 0.042661    0.302011  ...   \n",
       " stalk-surface-above-ring   0.021821    0.265516  ...   \n",
       " stalk-surface-below-ring   0.013204    0.266079  ...   \n",
       " stalk-color-above-ring     0.073084    0.258757  ...   \n",
       " stalk-color-below-ring     0.061543    0.251544  ...   \n",
       " veil-color                 0.073542    0.583576  ...   \n",
       " ring-number                0.104343    0.386967  ...   \n",
       " ring-type                  0.169840    0.506659  ...   \n",
       " spore-print-color          0.149347    0.431278  ...   \n",
       " population                 0.114321    0.254277  ...   \n",
       " habitat                    0.088057    0.282748  ...   \n",
       " \n",
       "                           stalk-surface-above-ring  stalk-surface-below-ring  \\\n",
       " class                                     0.284991                  0.272148   \n",
       " cap-shape                                 0.019683                  0.019701   \n",
       " cap-surface                               0.035933                  0.043278   \n",
       " cap-color                                 0.063418                  0.087859   \n",
       " bruises                                   0.321342                  0.311460   \n",
       " odor                                      0.185490                  0.217931   \n",
       " gill-attachment                           0.049462                  0.098711   \n",
       " gill-spacing                              0.159168                  0.148734   \n",
       " gill-size                                 0.029870                  0.020705   \n",
       " gill-color                                0.107010                  0.122847   \n",
       " stalk-shape                               0.084456                  0.111930   \n",
       " stalk-root                                0.173551                  0.295778   \n",
       " stalk-surface-above-ring                  1.000000                  0.343260   \n",
       " stalk-surface-below-ring                  0.299643                  1.000000   \n",
       " stalk-color-above-ring                    0.197715                  0.211871   \n",
       " stalk-color-below-ring                    0.185818                  0.199832   \n",
       " veil-color                                0.122877                  0.112132   \n",
       " ring-number                               0.051111                  0.075755   \n",
       " ring-type                                 0.319645                  0.341215   \n",
       " spore-print-color                         0.216610                  0.221359   \n",
       " population                                0.093678                  0.102367   \n",
       " habitat                                   0.094071                  0.096964   \n",
       " \n",
       "                           stalk-color-above-ring  stalk-color-below-ring  \\\n",
       " class                                   0.254082                0.241641   \n",
       " cap-shape                               0.058215                0.055384   \n",
       " cap-surface                             0.111544                0.116047   \n",
       " cap-color                               0.156924                0.158050   \n",
       " bruises                                 0.230271                0.239786   \n",
       " odor                                    0.224389                0.217475   \n",
       " gill-attachment                         0.974405                0.974405   \n",
       " gill-spacing                            0.249324                0.220339   \n",
       " gill-size                               0.158643                0.136444   \n",
       " gill-color                              0.165376                0.164199   \n",
       " stalk-shape                             0.271769                0.284461   \n",
       " stalk-root                              0.233482                0.237975   \n",
       " stalk-surface-above-ring                0.313535                0.300961   \n",
       " stalk-surface-below-ring                0.293292                0.282531   \n",
       " stalk-color-above-ring                  1.000000                0.337457   \n",
       " stalk-color-below-ring                  0.330403                1.000000   \n",
       " veil-color                              0.879566                0.865742   \n",
       " ring-number                             0.320570                0.323600   \n",
       " ring-type                               0.386567                0.372740   \n",
       " spore-print-color                       0.247819                0.243258   \n",
       " population                              0.219040                0.220242   \n",
       " habitat                                 0.195010                0.193145   \n",
       " \n",
       "                           veil-color  ring-number  ring-type  \\\n",
       " class                       0.023839     0.038489   0.318318   \n",
       " cap-shape                   0.009188     0.025199   0.084951   \n",
       " cap-surface                 0.026409     0.009376   0.091641   \n",
       " cap-color                   0.018796     0.031888   0.170940   \n",
       " bruises                     0.019803     0.004893   0.515786   \n",
       " odor                        0.013025     0.058201   0.325987   \n",
       " gill-attachment             0.869167     0.058504   0.185867   \n",
       " gill-spacing                0.013552     0.052528   0.118140   \n",
       " gill-size                   0.016174     0.049195   0.292209   \n",
       " gill-color                  0.037790     0.053718   0.256657   \n",
       " stalk-shape                 0.030736     0.102280   0.343261   \n",
       " stalk-root                  0.011902     0.042657   0.163423   \n",
       " stalk-surface-above-ring    0.019743     0.017605   0.401764   \n",
       " stalk-surface-below-ring    0.015727     0.022777   0.374379   \n",
       " stalk-color-above-ring      0.089118     0.069629   0.306394   \n",
       " stalk-color-below-ring      0.085884     0.068817   0.289259   \n",
       " veil-color                  1.000000     0.014947   0.134313   \n",
       " ring-number                 0.006972     1.000000   0.150472   \n",
       " ring-type                   0.017170     0.041235   1.000000   \n",
       " spore-print-color           0.055835     0.074932   0.369969   \n",
       " population                  0.024867     0.067675   0.183187   \n",
       " habitat                     0.037434     0.072048   0.133368   \n",
       " \n",
       "                           spore-print-color  population   habitat  \n",
       " class                              0.481153    0.202146  0.156980  \n",
       " cap-shape                          0.137079    0.109311  0.105852  \n",
       " cap-surface                        0.084752    0.124042  0.102367  \n",
       " cap-color                          0.190981    0.136673  0.187076  \n",
       " bruises                            0.306383    0.078976  0.252096  \n",
       " odor                               0.410462    0.197671  0.214808  \n",
       " gill-attachment                    0.659893    0.312008  0.425226  \n",
       " gill-spacing                       0.136083    0.454470  0.321471  \n",
       " gill-size                          0.368778    0.256686  0.224494  \n",
       " gill-color                         0.313553    0.168101  0.212241  \n",
       " stalk-shape                        0.168107    0.190050  0.146521  \n",
       " stalk-root                         0.257242    0.462000  0.449837  \n",
       " stalk-surface-above-ring           0.390750    0.153661  0.175207  \n",
       " stalk-surface-below-ring           0.348576    0.146577  0.157646  \n",
       " stalk-color-above-ring             0.281908    0.226571  0.229036  \n",
       " stalk-color-below-ring             0.270934    0.223052  0.222103  \n",
       " veil-color                         0.626872    0.253870  0.433922  \n",
       " ring-number                        0.392440    0.322286  0.389586  \n",
       " ring-type                          0.530985    0.239067  0.197625  \n",
       " spore-print-color                  1.000000    0.154554  0.197611  \n",
       " population                         0.169970    1.000000  0.322239  \n",
       " habitat                            0.191398    0.283800  1.000000  \n",
       " \n",
       " [22 rows x 22 columns],\n",
       " 'ax': <AxesSubplot:>}"
      ]
     },
     "execution_count": 186,
     "metadata": {},
     "output_type": "execute_result"
    }
   ],
   "source": [
    "associations(df_1_o1, nom_nom_assoc='theil', figsize=(15, 15))# "
   ]
  },
  {
   "cell_type": "code",
   "execution_count": null,
   "id": "1f655d13",
   "metadata": {},
   "outputs": [],
   "source": [
    "# Features Scaling-Normalization or Standardization??\n",
    "\n",
    "#Google- Normalization or std on Categorical Features?\n",
    "#Normalization/standardization of features is done to bring all features to a similar scale. \n",
    "#When you one hot encode categorical variables they are either 0/1 hence there is not much scale difference like 10~1000,\n",
    "#hence there is no need to apply techniques for normalization/standardization.\n",
    "\n",
    "\n",
    "#https://stats.stackexchange.com/questions/399430/does-categorical-variable-need-normalization-standardization#:~:text=Normalization%2Fstandardization%20of%20features%20is,apply%20techniques%20for%20normalization%2Fstandardization."
   ]
  },
  {
   "cell_type": "markdown",
   "id": "3aad33e9",
   "metadata": {},
   "source": [
    "# Converting output feeature to numerical using LabelEncoder"
   ]
  },
  {
   "cell_type": "code",
   "execution_count": 15,
   "id": "9a39bc75",
   "metadata": {},
   "outputs": [],
   "source": [
    "from sklearn import preprocessing\n",
    "\n",
    "le = preprocessing.LabelEncoder()\n",
    "df_1['class']=le.fit_transform(df_1['class'])"
   ]
  },
  {
   "cell_type": "code",
   "execution_count": 16,
   "id": "5283fdfb",
   "metadata": {},
   "outputs": [
    {
     "data": {
      "text/plain": [
       "0       1\n",
       "1       0\n",
       "2       0\n",
       "3       1\n",
       "4       0\n",
       "       ..\n",
       "8119    0\n",
       "8120    0\n",
       "8121    0\n",
       "8122    1\n",
       "8123    0\n",
       "Name: class, Length: 8124, dtype: int32"
      ]
     },
     "execution_count": 16,
     "metadata": {},
     "output_type": "execute_result"
    }
   ],
   "source": [
    "df_1['class']"
   ]
  },
  {
   "cell_type": "code",
   "execution_count": 17,
   "id": "d75667f6",
   "metadata": {},
   "outputs": [
    {
     "data": {
      "text/plain": [
       "0       p\n",
       "1       e\n",
       "2       e\n",
       "3       p\n",
       "4       e\n",
       "       ..\n",
       "8119    e\n",
       "8120    e\n",
       "8121    e\n",
       "8122    p\n",
       "8123    e\n",
       "Name: class, Length: 8124, dtype: object"
      ]
     },
     "execution_count": 17,
     "metadata": {},
     "output_type": "execute_result"
    }
   ],
   "source": [
    "df['class']"
   ]
  },
  {
   "cell_type": "markdown",
   "id": "099a7c74",
   "metadata": {},
   "source": [
    "# Splitting the dataset into Training and Testing"
   ]
  },
  {
   "cell_type": "code",
   "execution_count": 18,
   "id": "fa5b4fdc",
   "metadata": {},
   "outputs": [],
   "source": [
    "from sklearn.model_selection import train_test_split\n",
    "X_train,X_test,y_train,y_test = train_test_split(df_1.drop(columns=['class']),df_1['class'],test_size=0.2)"
   ]
  },
  {
   "cell_type": "code",
   "execution_count": 19,
   "id": "a1e98790",
   "metadata": {},
   "outputs": [
    {
     "data": {
      "text/plain": [
       "Index(['cap-shape', 'cap-surface', 'cap-color', 'bruises', 'odor',\n",
       "       'gill-spacing', 'gill-size', 'gill-color', 'stalk-root',\n",
       "       'stalk-surface-above-ring', 'stalk-surface-below-ring',\n",
       "       'stalk-color-above-ring', 'stalk-color-below-ring', 'ring-number',\n",
       "       'ring-type', 'spore-print-color', 'population', 'habitat'],\n",
       "      dtype='object')"
      ]
     },
     "execution_count": 19,
     "metadata": {},
     "output_type": "execute_result"
    }
   ],
   "source": [
    "X_train.columns"
   ]
  },
  {
   "cell_type": "code",
   "execution_count": 20,
   "id": "297d9142",
   "metadata": {},
   "outputs": [],
   "source": [
    "from sklearn.preprocessing import OneHotEncoder\n",
    "from sklearn.compose import ColumnTransformer"
   ]
  },
  {
   "cell_type": "markdown",
   "id": "72080200",
   "metadata": {},
   "source": [
    "# CONVERTING CATEGORICAL INPUT FEATURES TO NUMERICAL ,TO APPLY MODELS\n"
   ]
  },
  {
   "cell_type": "code",
   "execution_count": 21,
   "id": "ed87c452",
   "metadata": {},
   "outputs": [],
   "source": [
    "\n",
    "t1 = ColumnTransformer(transformers=[\n",
    "                  ('t11',OneHotEncoder(sparse=False,drop='first'),['cap-shape', 'cap-surface', 'cap-color', 'bruises', 'odor',\n",
    "       'gill-spacing', 'gill-size', 'gill-color','stalk-root','stalk-surface-above-ring', 'stalk-surface-below-ring',\n",
    "       'stalk-color-above-ring', 'stalk-color-below-ring', 'ring-number', 'ring-type', 'spore-print-color', 'population',\n",
    "       'habitat'])\n",
    "],remainder='passthrough')"
   ]
  },
  {
   "cell_type": "code",
   "execution_count": 22,
   "id": "b76a5748",
   "metadata": {},
   "outputs": [
    {
     "data": {
      "text/plain": [
       "(6499, 89)"
      ]
     },
     "execution_count": 22,
     "metadata": {},
     "output_type": "execute_result"
    }
   ],
   "source": [
    "t1.fit_transform(X_train).shape"
   ]
  },
  {
   "cell_type": "code",
   "execution_count": 23,
   "id": "51b10eb3",
   "metadata": {},
   "outputs": [
    {
     "data": {
      "text/plain": [
       "(1625, 89)"
      ]
     },
     "execution_count": 23,
     "metadata": {},
     "output_type": "execute_result"
    }
   ],
   "source": [
    "X_train_encoded = t1.fit_transform(X_train)\n",
    "X_test_encoded = t1.fit_transform(X_test)\n",
    "\n",
    "X_test_encoded.shape"
   ]
  },
  {
   "cell_type": "code",
   "execution_count": 149,
   "id": "af7b2441",
   "metadata": {},
   "outputs": [],
   "source": [
    "#X_train=t1.fit_transform(X_train).reshape(-1,1)"
   ]
  },
  {
   "cell_type": "code",
   "execution_count": 24,
   "id": "a1892a0f",
   "metadata": {},
   "outputs": [],
   "source": [
    "#Apply different classfication algo's\n",
    "\n",
    "from sklearn.linear_model import LogisticRegression\n",
    "from sklearn.svm import SVC\n",
    "from sklearn.naive_bayes import MultinomialNB\n",
    "from sklearn.tree import DecisionTreeClassifier\n",
    "from sklearn.neighbors import KNeighborsClassifier\n",
    "from sklearn.ensemble import RandomForestClassifier\n",
    "from sklearn.ensemble import AdaBoostClassifier\n",
    "from sklearn.ensemble import BaggingClassifier\n",
    "from sklearn.ensemble import ExtraTreesClassifier\n",
    "from sklearn.ensemble import GradientBoostingClassifier\n",
    "from xgboost import XGBClassifier"
   ]
  },
  {
   "cell_type": "markdown",
   "id": "38cb618b",
   "metadata": {},
   "source": [
    "# MODEL BUILDING"
   ]
  },
  {
   "cell_type": "code",
   "execution_count": 25,
   "id": "61641f20",
   "metadata": {},
   "outputs": [],
   "source": [
    "# MODEL BUILDING\n",
    "\n",
    "svc = SVC(kernel='sigmoid', gamma=1.0)\n",
    "knc = KNeighborsClassifier()\n",
    "mnb = MultinomialNB()\n",
    "dtc = DecisionTreeClassifier(max_depth=5)\n",
    "lrc = LogisticRegression(solver='liblinear', penalty='l1')\n",
    "rfc = RandomForestClassifier(n_estimators=50, random_state=2)\n",
    "abc = AdaBoostClassifier(n_estimators=50, random_state=2)\n",
    "bc = BaggingClassifier(n_estimators=50, random_state=2)\n",
    "etc = ExtraTreesClassifier(n_estimators=50, random_state=2)\n",
    "gbdt = GradientBoostingClassifier(n_estimators=50,random_state=2)\n",
    "xgb = XGBClassifier(n_estimators=50,random_state=2)"
   ]
  },
  {
   "cell_type": "code",
   "execution_count": 38,
   "id": "043de904",
   "metadata": {},
   "outputs": [],
   "source": [
    "clfs = {\n",
    "    'SVC' : svc,\n",
    "    'KN' : knc, \n",
    "    'NB': mnb, \n",
    "    'DT': dtc, \n",
    "    'LR': lrc, \n",
    "    'RF': rfc, \n",
    "    'AdaBoost': abc, \n",
    "    'BgC': bc, \n",
    "    'ETC': etc,\n",
    "    'GBDT':gbdt,\n",
    "    'xgb':xgb\n",
    "}"
   ]
  },
  {
   "cell_type": "code",
   "execution_count": 58,
   "id": "b8ec0e5b",
   "metadata": {},
   "outputs": [],
   "source": [
    "def train_classifier(clf,X_train,y_train,X_test,y_test):\n",
    "    clf.fit(X_train,y_train)\n",
    "    y_pred_train= clf.predict(X_train)\n",
    "\n",
    "    y_pred_test = clf.predict(X_test)\n",
    "    train_accuracy=accuracy_score(y_train,y_pred_train)\n",
    "    test_accuracy = accuracy_score(y_test,y_pred_test)\n",
    "    recall = recall_score(y_test,y_pred)\n",
    "    \n",
    "    return train_accuracy,test_accuracy,precision"
   ]
  },
  {
   "cell_type": "code",
   "execution_count": 59,
   "id": "1820db94",
   "metadata": {},
   "outputs": [
    {
     "name": "stdout",
     "output_type": "stream",
     "text": [
      "(0.6556393291275581, 0.6547692307692308, 1.0)\n"
     ]
    }
   ],
   "source": [
    "print(train_classifier(svc,X_train_encoded,y_train,X_test_encoded,y_test))"
   ]
  },
  {
   "cell_type": "markdown",
   "id": "28b251a4",
   "metadata": {},
   "source": [
    "# Defining Performance Metrics\n",
    "\n",
    "\n",
    "\n",
    "Accuracy is must here,along with that we have to reduce Type-2 error,because if mushroom is poisonous,still model is classifying\n",
    "it as a edible,then it'll lead to human life diaster,so recall is best here\n",
    "\n",
    "hence I'll take accuracy,recall.\n",
    "\n",
    "finally model whose above two Performance Metrics are high,I'll go with it."
   ]
  },
  {
   "cell_type": "code",
   "execution_count": 61,
   "id": "e2aa0094",
   "metadata": {},
   "outputs": [
    {
     "name": "stdout",
     "output_type": "stream",
     "text": [
      "For  SVC\n",
      "train accuracy -  0.6556393291275581\n",
      "test accuracy - 0.6547692307692308\n",
      "Precision -  1.0\n"
     ]
    },
    {
     "name": "stderr",
     "output_type": "stream",
     "text": [
      "C:\\Users\\Guest\\anaconda3\\lib\\site-packages\\sklearn\\neighbors\\_classification.py:211: FutureWarning: Unlike other reduction functions (e.g. `skew`, `kurtosis`), the default behavior of `mode` typically preserves the axis it acts along. In SciPy 1.11.0, this behavior will change: the default value of `keepdims` will become False, the `axis` over which the statistic is taken will be eliminated, and the value None will no longer be accepted. Set `keepdims` to True or False to avoid this warning.\n",
      "  mode, _ = stats.mode(_y[neigh_ind, k], axis=1)\n",
      "C:\\Users\\Guest\\anaconda3\\lib\\site-packages\\sklearn\\neighbors\\_classification.py:211: FutureWarning: Unlike other reduction functions (e.g. `skew`, `kurtosis`), the default behavior of `mode` typically preserves the axis it acts along. In SciPy 1.11.0, this behavior will change: the default value of `keepdims` will become False, the `axis` over which the statistic is taken will be eliminated, and the value None will no longer be accepted. Set `keepdims` to True or False to avoid this warning.\n",
      "  mode, _ = stats.mode(_y[neigh_ind, k], axis=1)\n"
     ]
    },
    {
     "name": "stdout",
     "output_type": "stream",
     "text": [
      "For  KN\n",
      "train accuracy -  1.0\n",
      "test accuracy - 1.0\n",
      "Precision -  1.0\n",
      "For  NB\n",
      "train accuracy -  0.9559932297276504\n",
      "test accuracy - 0.9544615384615385\n",
      "Precision -  1.0\n",
      "For  DT\n",
      "train accuracy -  0.9963071241729496\n",
      "test accuracy - 0.9981538461538462\n",
      "Precision -  1.0\n",
      "For  LR\n",
      "train accuracy -  1.0\n",
      "test accuracy - 1.0\n",
      "Precision -  1.0\n",
      "For  RF\n",
      "train accuracy -  1.0\n",
      "test accuracy - 1.0\n",
      "Precision -  1.0\n",
      "For  AdaBoost\n",
      "train accuracy -  1.0\n",
      "test accuracy - 1.0\n",
      "Precision -  1.0\n",
      "For  BgC\n",
      "train accuracy -  1.0\n",
      "test accuracy - 1.0\n",
      "Precision -  1.0\n",
      "For  ETC\n",
      "train accuracy -  1.0\n",
      "test accuracy - 1.0\n",
      "Precision -  1.0\n",
      "For  GBDT\n",
      "train accuracy -  0.9995383905216187\n",
      "test accuracy - 1.0\n",
      "Precision -  1.0\n",
      "For  xgb\n",
      "train accuracy -  1.0\n",
      "test accuracy - 1.0\n",
      "Precision -  1.0\n"
     ]
    }
   ],
   "source": [
    "train_accu= []\n",
    "test_accu=[]\n",
    "recall_scores = []\n",
    "\n",
    "for name,clf in clfs.items():\n",
    "    \n",
    "    train_acc,test_acc,current_recall = train_classifier(clf, X_train_encoded,y_train,X_test_encoded,y_test)\n",
    "    \n",
    "    print(\"For \",name)\n",
    "    print(\"train accuracy - \",train_acc)\n",
    "    print(\"test accuracy -\",test_acc)\n",
    "    print(\"Precision - \",current_recall)\n",
    "    \n",
    "    train_accu.append(train_acc)\n",
    "    test_accu.append(test_acc)\n",
    "    recall_scores.append(current_recall)"
   ]
  },
  {
   "cell_type": "code",
   "execution_count": 62,
   "id": "b96ce456",
   "metadata": {},
   "outputs": [
    {
     "data": {
      "text/html": [
       "<div>\n",
       "<style scoped>\n",
       "    .dataframe tbody tr th:only-of-type {\n",
       "        vertical-align: middle;\n",
       "    }\n",
       "\n",
       "    .dataframe tbody tr th {\n",
       "        vertical-align: top;\n",
       "    }\n",
       "\n",
       "    .dataframe thead th {\n",
       "        text-align: right;\n",
       "    }\n",
       "</style>\n",
       "<table border=\"1\" class=\"dataframe\">\n",
       "  <thead>\n",
       "    <tr style=\"text-align: right;\">\n",
       "      <th></th>\n",
       "      <th>Algorithm</th>\n",
       "      <th>Train_Accuracy</th>\n",
       "      <th>Test_Accuracy</th>\n",
       "      <th>Recall</th>\n",
       "    </tr>\n",
       "  </thead>\n",
       "  <tbody>\n",
       "    <tr>\n",
       "      <th>0</th>\n",
       "      <td>SVC</td>\n",
       "      <td>0.655639</td>\n",
       "      <td>0.654769</td>\n",
       "      <td>1.0</td>\n",
       "    </tr>\n",
       "    <tr>\n",
       "      <th>1</th>\n",
       "      <td>KN</td>\n",
       "      <td>1.000000</td>\n",
       "      <td>1.000000</td>\n",
       "      <td>1.0</td>\n",
       "    </tr>\n",
       "    <tr>\n",
       "      <th>2</th>\n",
       "      <td>NB</td>\n",
       "      <td>0.955993</td>\n",
       "      <td>0.954462</td>\n",
       "      <td>1.0</td>\n",
       "    </tr>\n",
       "    <tr>\n",
       "      <th>3</th>\n",
       "      <td>DT</td>\n",
       "      <td>0.996307</td>\n",
       "      <td>0.998154</td>\n",
       "      <td>1.0</td>\n",
       "    </tr>\n",
       "    <tr>\n",
       "      <th>4</th>\n",
       "      <td>LR</td>\n",
       "      <td>1.000000</td>\n",
       "      <td>1.000000</td>\n",
       "      <td>1.0</td>\n",
       "    </tr>\n",
       "    <tr>\n",
       "      <th>5</th>\n",
       "      <td>RF</td>\n",
       "      <td>1.000000</td>\n",
       "      <td>1.000000</td>\n",
       "      <td>1.0</td>\n",
       "    </tr>\n",
       "    <tr>\n",
       "      <th>6</th>\n",
       "      <td>AdaBoost</td>\n",
       "      <td>1.000000</td>\n",
       "      <td>1.000000</td>\n",
       "      <td>1.0</td>\n",
       "    </tr>\n",
       "    <tr>\n",
       "      <th>7</th>\n",
       "      <td>BgC</td>\n",
       "      <td>1.000000</td>\n",
       "      <td>1.000000</td>\n",
       "      <td>1.0</td>\n",
       "    </tr>\n",
       "    <tr>\n",
       "      <th>8</th>\n",
       "      <td>ETC</td>\n",
       "      <td>1.000000</td>\n",
       "      <td>1.000000</td>\n",
       "      <td>1.0</td>\n",
       "    </tr>\n",
       "    <tr>\n",
       "      <th>9</th>\n",
       "      <td>GBDT</td>\n",
       "      <td>0.999538</td>\n",
       "      <td>1.000000</td>\n",
       "      <td>1.0</td>\n",
       "    </tr>\n",
       "    <tr>\n",
       "      <th>10</th>\n",
       "      <td>xgb</td>\n",
       "      <td>1.000000</td>\n",
       "      <td>1.000000</td>\n",
       "      <td>1.0</td>\n",
       "    </tr>\n",
       "  </tbody>\n",
       "</table>\n",
       "</div>"
      ],
      "text/plain": [
       "   Algorithm  Train_Accuracy  Test_Accuracy  Recall\n",
       "0        SVC        0.655639       0.654769     1.0\n",
       "1         KN        1.000000       1.000000     1.0\n",
       "2         NB        0.955993       0.954462     1.0\n",
       "3         DT        0.996307       0.998154     1.0\n",
       "4         LR        1.000000       1.000000     1.0\n",
       "5         RF        1.000000       1.000000     1.0\n",
       "6   AdaBoost        1.000000       1.000000     1.0\n",
       "7        BgC        1.000000       1.000000     1.0\n",
       "8        ETC        1.000000       1.000000     1.0\n",
       "9       GBDT        0.999538       1.000000     1.0\n",
       "10       xgb        1.000000       1.000000     1.0"
      ]
     },
     "execution_count": 62,
     "metadata": {},
     "output_type": "execute_result"
    }
   ],
   "source": [
    "performance_df = pd.DataFrame({'Algorithm':clfs.keys(),'Train_Accuracy':train_accu,'Test_Accuracy':test_accu,'Recall':recall_scores}).sort_values('Recall',ascending=False)\n",
    "performance_df"
   ]
  },
  {
   "cell_type": "code",
   "execution_count": 64,
   "id": "c4f7b293",
   "metadata": {},
   "outputs": [
    {
     "data": {
      "text/html": [
       "<div>\n",
       "<style scoped>\n",
       "    .dataframe tbody tr th:only-of-type {\n",
       "        vertical-align: middle;\n",
       "    }\n",
       "\n",
       "    .dataframe tbody tr th {\n",
       "        vertical-align: top;\n",
       "    }\n",
       "\n",
       "    .dataframe thead th {\n",
       "        text-align: right;\n",
       "    }\n",
       "</style>\n",
       "<table border=\"1\" class=\"dataframe\">\n",
       "  <thead>\n",
       "    <tr style=\"text-align: right;\">\n",
       "      <th></th>\n",
       "      <th>Algorithm</th>\n",
       "      <th>variable</th>\n",
       "      <th>value</th>\n",
       "    </tr>\n",
       "  </thead>\n",
       "  <tbody>\n",
       "    <tr>\n",
       "      <th>0</th>\n",
       "      <td>SVC</td>\n",
       "      <td>Test_Accuracy</td>\n",
       "      <td>0.654769</td>\n",
       "    </tr>\n",
       "    <tr>\n",
       "      <th>1</th>\n",
       "      <td>KN</td>\n",
       "      <td>Test_Accuracy</td>\n",
       "      <td>1.000000</td>\n",
       "    </tr>\n",
       "    <tr>\n",
       "      <th>2</th>\n",
       "      <td>NB</td>\n",
       "      <td>Test_Accuracy</td>\n",
       "      <td>0.954462</td>\n",
       "    </tr>\n",
       "    <tr>\n",
       "      <th>3</th>\n",
       "      <td>DT</td>\n",
       "      <td>Test_Accuracy</td>\n",
       "      <td>0.998154</td>\n",
       "    </tr>\n",
       "    <tr>\n",
       "      <th>4</th>\n",
       "      <td>LR</td>\n",
       "      <td>Test_Accuracy</td>\n",
       "      <td>1.000000</td>\n",
       "    </tr>\n",
       "    <tr>\n",
       "      <th>5</th>\n",
       "      <td>RF</td>\n",
       "      <td>Test_Accuracy</td>\n",
       "      <td>1.000000</td>\n",
       "    </tr>\n",
       "    <tr>\n",
       "      <th>6</th>\n",
       "      <td>AdaBoost</td>\n",
       "      <td>Test_Accuracy</td>\n",
       "      <td>1.000000</td>\n",
       "    </tr>\n",
       "    <tr>\n",
       "      <th>7</th>\n",
       "      <td>BgC</td>\n",
       "      <td>Test_Accuracy</td>\n",
       "      <td>1.000000</td>\n",
       "    </tr>\n",
       "    <tr>\n",
       "      <th>8</th>\n",
       "      <td>ETC</td>\n",
       "      <td>Test_Accuracy</td>\n",
       "      <td>1.000000</td>\n",
       "    </tr>\n",
       "    <tr>\n",
       "      <th>9</th>\n",
       "      <td>GBDT</td>\n",
       "      <td>Test_Accuracy</td>\n",
       "      <td>1.000000</td>\n",
       "    </tr>\n",
       "    <tr>\n",
       "      <th>10</th>\n",
       "      <td>xgb</td>\n",
       "      <td>Test_Accuracy</td>\n",
       "      <td>1.000000</td>\n",
       "    </tr>\n",
       "    <tr>\n",
       "      <th>11</th>\n",
       "      <td>SVC</td>\n",
       "      <td>Recall</td>\n",
       "      <td>1.000000</td>\n",
       "    </tr>\n",
       "    <tr>\n",
       "      <th>12</th>\n",
       "      <td>KN</td>\n",
       "      <td>Recall</td>\n",
       "      <td>1.000000</td>\n",
       "    </tr>\n",
       "    <tr>\n",
       "      <th>13</th>\n",
       "      <td>NB</td>\n",
       "      <td>Recall</td>\n",
       "      <td>1.000000</td>\n",
       "    </tr>\n",
       "    <tr>\n",
       "      <th>14</th>\n",
       "      <td>DT</td>\n",
       "      <td>Recall</td>\n",
       "      <td>1.000000</td>\n",
       "    </tr>\n",
       "    <tr>\n",
       "      <th>15</th>\n",
       "      <td>LR</td>\n",
       "      <td>Recall</td>\n",
       "      <td>1.000000</td>\n",
       "    </tr>\n",
       "    <tr>\n",
       "      <th>16</th>\n",
       "      <td>RF</td>\n",
       "      <td>Recall</td>\n",
       "      <td>1.000000</td>\n",
       "    </tr>\n",
       "    <tr>\n",
       "      <th>17</th>\n",
       "      <td>AdaBoost</td>\n",
       "      <td>Recall</td>\n",
       "      <td>1.000000</td>\n",
       "    </tr>\n",
       "    <tr>\n",
       "      <th>18</th>\n",
       "      <td>BgC</td>\n",
       "      <td>Recall</td>\n",
       "      <td>1.000000</td>\n",
       "    </tr>\n",
       "    <tr>\n",
       "      <th>19</th>\n",
       "      <td>ETC</td>\n",
       "      <td>Recall</td>\n",
       "      <td>1.000000</td>\n",
       "    </tr>\n",
       "    <tr>\n",
       "      <th>20</th>\n",
       "      <td>GBDT</td>\n",
       "      <td>Recall</td>\n",
       "      <td>1.000000</td>\n",
       "    </tr>\n",
       "    <tr>\n",
       "      <th>21</th>\n",
       "      <td>xgb</td>\n",
       "      <td>Recall</td>\n",
       "      <td>1.000000</td>\n",
       "    </tr>\n",
       "  </tbody>\n",
       "</table>\n",
       "</div>"
      ],
      "text/plain": [
       "   Algorithm       variable     value\n",
       "0        SVC  Test_Accuracy  0.654769\n",
       "1         KN  Test_Accuracy  1.000000\n",
       "2         NB  Test_Accuracy  0.954462\n",
       "3         DT  Test_Accuracy  0.998154\n",
       "4         LR  Test_Accuracy  1.000000\n",
       "5         RF  Test_Accuracy  1.000000\n",
       "6   AdaBoost  Test_Accuracy  1.000000\n",
       "7        BgC  Test_Accuracy  1.000000\n",
       "8        ETC  Test_Accuracy  1.000000\n",
       "9       GBDT  Test_Accuracy  1.000000\n",
       "10       xgb  Test_Accuracy  1.000000\n",
       "11       SVC         Recall  1.000000\n",
       "12        KN         Recall  1.000000\n",
       "13        NB         Recall  1.000000\n",
       "14        DT         Recall  1.000000\n",
       "15        LR         Recall  1.000000\n",
       "16        RF         Recall  1.000000\n",
       "17  AdaBoost         Recall  1.000000\n",
       "18       BgC         Recall  1.000000\n",
       "19       ETC         Recall  1.000000\n",
       "20      GBDT         Recall  1.000000\n",
       "21       xgb         Recall  1.000000"
      ]
     },
     "execution_count": 64,
     "metadata": {},
     "output_type": "execute_result"
    }
   ],
   "source": [
    "performance_df1 = pd.melt(performance_df[['Algorithm','Test_Accuracy','Recall']], id_vars = \"Algorithm\")\n",
    "performance_df1"
   ]
  },
  {
   "cell_type": "code",
   "execution_count": 65,
   "id": "df9a1a59",
   "metadata": {},
   "outputs": [
    {
     "data": {
      "image/png": "[encoded data removed]",
      "text/plain": [
       "<Figure size 466.25x360 with 1 Axes>"
      ]
     },
     "metadata": {
      "needs_background": "light"
     },
     "output_type": "display_data"
    }
   ],
   "source": [
    "#MODEL EVALUATION\n",
    "\n",
    "\n",
    "sns.catplot(x = 'Algorithm', y='value', \n",
    "               hue = 'variable',data=performance_df1, kind='bar',height=5)\n",
    "plt.ylim(0.5,1.0)\n",
    "plt.xticks(rotation='vertical')\n",
    "plt.show()"
   ]
  },
  {
   "cell_type": "code",
   "execution_count": 44,
   "id": "99333694",
   "metadata": {},
   "outputs": [
    {
     "name": "stdout",
     "output_type": "stream",
     "text": [
      "Accuracy 1.0\n",
      "Recall 1.0\n"
     ]
    }
   ],
   "source": [
    "# Voting Classifier\n",
    "knc = KNeighborsClassifier()\n",
    "dtc = DecisionTreeClassifier(max_depth=5)\n",
    "lrc = LogisticRegression(solver='liblinear', penalty='l1')\n",
    "\n",
    "from sklearn.ensemble import VotingClassifier\n",
    "voting = VotingClassifier(estimators=[('knc', knc), ('dtc', dtc), ('lrc', lrc)],voting='soft')\n",
    "voting.fit(X_train_encoded,y_train)\n",
    "\n",
    "\n",
    "y_pred = voting.predict(X_test_encoded)\n",
    "print(\"Accuracy\",accuracy_score(y_test,y_pred))\n",
    "print(\"Recall\",recall_score(y_test,y_pred))"
   ]
  },
  {
   "cell_type": "code",
   "execution_count": 47,
   "id": "239c7bc7",
   "metadata": {},
   "outputs": [],
   "source": [
    "# Applying stacking\n",
    "estimators=[('knc', knc), ('dtc', dtc), ('lrc', lrc)]\n",
    "final_estimator=RandomForestClassifier()\n",
    "\n",
    "from sklearn.ensemble import StackingClassifier\n",
    "stack_clf = StackingClassifier(estimators=estimators, final_estimator=final_estimator)"
   ]
  },
  {
   "cell_type": "code",
   "execution_count": 48,
   "id": "6f3e836a",
   "metadata": {},
   "outputs": [
    {
     "name": "stdout",
     "output_type": "stream",
     "text": [
      "Accuracy 1.0\n",
      "Precision 1.0\n"
     ]
    }
   ],
   "source": [
    "stack_clf.fit(X_train_encoded,y_train)\n",
    "y_pred = clf.predict(X_test_encoded)\n",
    "print(\"Accuracy\",accuracy_score(y_test,y_pred))\n",
    "print(\"Recall\",recall_score(y_test,y_pred))"
   ]
  },
  {
   "cell_type": "code",
   "execution_count": 67,
   "id": "7981ec78",
   "metadata": {},
   "outputs": [
    {
     "name": "stderr",
     "output_type": "stream",
     "text": [
      "C:\\Users\\Guest\\anaconda3\\lib\\site-packages\\sklearn\\neighbors\\_classification.py:211: FutureWarning: Unlike other reduction functions (e.g. `skew`, `kurtosis`), the default behavior of `mode` typically preserves the axis it acts along. In SciPy 1.11.0, this behavior will change: the default value of `keepdims` will become False, the `axis` over which the statistic is taken will be eliminated, and the value None will no longer be accepted. Set `keepdims` to True or False to avoid this warning.\n",
      "  mode, _ = stats.mode(_y[neigh_ind, k], axis=1)\n"
     ]
    },
    {
     "name": "stdout",
     "output_type": "stream",
     "text": [
      "Train Accuracy: 1.0\n"
     ]
    },
    {
     "name": "stderr",
     "output_type": "stream",
     "text": [
      "C:\\Users\\Guest\\anaconda3\\lib\\site-packages\\sklearn\\neighbors\\_classification.py:211: FutureWarning: Unlike other reduction functions (e.g. `skew`, `kurtosis`), the default behavior of `mode` typically preserves the axis it acts along. In SciPy 1.11.0, this behavior will change: the default value of `keepdims` will become False, the `axis` over which the statistic is taken will be eliminated, and the value None will no longer be accepted. Set `keepdims` to True or False to avoid this warning.\n",
      "  mode, _ = stats.mode(_y[neigh_ind, k], axis=1)\n"
     ]
    },
    {
     "name": "stdout",
     "output_type": "stream",
     "text": [
      "Test Accuracy: 1.0\n"
     ]
    },
    {
     "name": "stderr",
     "output_type": "stream",
     "text": [
      "C:\\Users\\Guest\\anaconda3\\lib\\site-packages\\sklearn\\neighbors\\_classification.py:211: FutureWarning: Unlike other reduction functions (e.g. `skew`, `kurtosis`), the default behavior of `mode` typically preserves the axis it acts along. In SciPy 1.11.0, this behavior will change: the default value of `keepdims` will become False, the `axis` over which the statistic is taken will be eliminated, and the value None will no longer be accepted. Set `keepdims` to True or False to avoid this warning.\n",
      "  mode, _ = stats.mode(_y[neigh_ind, k], axis=1)\n"
     ]
    },
    {
     "data": {
      "text/plain": [
       "array([[821,   0],\n",
       "       [  0, 804]], dtype=int64)"
      ]
     },
     "execution_count": 67,
     "metadata": {},
     "output_type": "execute_result"
    }
   ],
   "source": [
    "knn_clf =knc.fit(X_train_encoded,y_train)\n",
    "print('Train Accuracy:', accuracy_score(y_train, knn_clf.predict(X_train_encoded)))\n",
    "    \n",
    "print('Test Accuracy:',accuracy_score(y_test, knn_clf.predict(X_test_encoded)))\n",
    "\n",
    "confusion_matrix(y_test,knn_clf.predict(X_test_encoded))"
   ]
  },
  {
   "cell_type": "markdown",
   "id": "e28b8b95",
   "metadata": {},
   "source": [
    "# Final Model Evaluation\n",
    "\n",
    "As you can see Many machine learning algo's are giving good results,without too much hyperparameter tuning.\n",
    "\n",
    "And Many models have same high performance,so we will select the final model who is simple to implement(implementation,space,time complexity low).\n",
    "\n",
    "In our case,K-Nearest Neighbor(KNN) Algorithm is simple in sklearn implemenation,so we'll opt for KNN Classifier."
   ]
  },
  {
   "cell_type": "code",
   "execution_count": 24,
   "id": "d643fc4f",
   "metadata": {},
   "outputs": [
    {
     "data": {
      "text/plain": [
       "Index(['class', 'cap-shape', 'cap-surface', 'cap-color', 'bruises', 'odor',\n",
       "       'gill-spacing', 'gill-size', 'gill-color', 'stalk-root',\n",
       "       'stalk-surface-above-ring', 'stalk-surface-below-ring',\n",
       "       'stalk-color-above-ring', 'stalk-color-below-ring', 'ring-number',\n",
       "       'ring-type', 'spore-print-color', 'population', 'habitat'],\n",
       "      dtype='object')"
      ]
     },
     "execution_count": 24,
     "metadata": {},
     "output_type": "execute_result"
    }
   ],
   "source": [
    "df_1.columns"
   ]
  },
  {
   "cell_type": "markdown",
   "id": "a3e7767f",
   "metadata": {},
   "source": [
    "#  YEAH !!!  MODEL IS READY JUST DEPLOY IT"
   ]
  },
  {
   "cell_type": "code",
   "execution_count": 68,
   "id": "2dc8e8b3",
   "metadata": {},
   "outputs": [],
   "source": [
    "import pickle\n",
    "pickle.dump(mnb,open('knn_clf.pkl','wb'))"
   ]
  }
 ],
 "metadata": {
  "kernelspec": {
   "display_name": "Python 3",
   "language": "python",
   "name": "python3"
  },
  "language_info": {
   "codemirror_mode": {
    "name": "ipython",
    "version": 3
   },
   "file_extension": ".py",
   "mimetype": "text/x-python",
   "name": "python",
   "nbconvert_exporter": "python",
   "pygments_lexer": "ipython3",
   "version": "3.9.7"
  }
 },
 "nbformat": 4,
 "nbformat_minor": 5
}
